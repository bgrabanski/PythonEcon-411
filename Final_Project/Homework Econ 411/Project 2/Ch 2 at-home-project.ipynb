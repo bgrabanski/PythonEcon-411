{
 "cells": [
  {
   "cell_type": "code",
   "execution_count": 1,
   "id": "1bb24c41",
   "metadata": {},
   "outputs": [
    {
     "name": "stdout",
     "output_type": "stream",
     "text": [
      "[3, 6, 9, 12, 15, 18, 21, 24, 27, 30, 33, 36, 39, 42, 45, 48, 51, 54, 57, 60, 63, 66, 69, 72, 75, 78, 81, 84, 87, 90, 93, 96, 99, 102, 105, 108, 111, 114, 117, 120, 123, 126, 129, 132, 135, 138, 141, 144, 147, 150, 153, 156, 159, 162, 165, 168, 171, 174, 177, 180, 183, 186, 189, 192, 195, 198, 201, 204, 207, 210, 213, 216, 219, 222, 225, 228, 231, 234, 237, 240, 243, 246, 249, 252, 255, 258, 261, 264, 267, 270, 273, 276, 279, 282, 285, 288, 291, 294, 297, 300] \n",
      " \n",
      " 100\n"
     ]
    }
   ],
   "source": [
    "count_100 = list(range(3,301,3))\n",
    "print(count_100, \"\\n\", \"\\n\",len(count_100))\n"
   ]
  },
  {
   "cell_type": "code",
   "execution_count": 2,
   "id": "c3c16743",
   "metadata": {},
   "outputs": [
    {
     "name": "stdout",
     "output_type": "stream",
     "text": [
      "['3', '6', '9', '12', '15', '18', '21', '24', '27', '30', '33', '36', '39', '42', '45', '48', '51', '54', '57', '60', '63', '66', '69', '72', '75', '78', '81', '84', '87', '90', '93', '96', '99', '102', '105', '108', '111', '114', '117', '120', '123', '126', '129', '132', '135', '138', '141', '144', '147', '150', '153', '156', '159', '162', '165', '168', '171', '174', '177', '180', '183', '186', '189', '192', '195', '198', '201', '204', '207', '210', '213', '216', '219', '222', '225', '228', '231', '234', '237', '240', '243', '246', '249', '252', '255', '258', '261', '264', '267', '270', '273', '276', '279', '282', '285', '288', '291', '294', '297', '300'] \n",
      " \n",
      " 100\n"
     ]
    }
   ],
   "source": [
    "string_list = []\n",
    "for i in range(3,301,3):\n",
    "    string_list.append(str(i))\n",
    "print(string_list,\"\\n\", \"\\n\", len(string_list))"
   ]
  },
  {
   "cell_type": "code",
   "execution_count": 3,
   "id": "eea15199",
   "metadata": {},
   "outputs": [
    {
     "name": "stdout",
     "output_type": "stream",
     "text": [
      "369121518212427303336394245485154576063666972757881848790939699102105108111114117120123126129132135138141144147150153156159162165168171174177180183186189192195198201204207210213216219222225228231234237240243246249252255258261264267270273276279282285288291294297300\n"
     ]
    }
   ],
   "source": [
    "variable = str(\"\".join(string_list))\n",
    "print(variable)"
   ]
  },
  {
   "cell_type": "code",
   "execution_count": 4,
   "id": "c508be51",
   "metadata": {},
   "outputs": [
    {
     "name": "stdout",
     "output_type": "stream",
     "text": [
      "[300, 297, 294, 291, 288, 285, 282, 279, 276, 273, 270, 267, 264, 261, 258, 255, 252, 249, 246, 243, 240, 237, 234, 231, 228, 225, 222, 219, 216, 213, 210, 207, 204, 201, 198, 195, 192, 189, 186, 183, 180, 177, 174, 171, 168, 165, 162, 159, 156, 153, 150, 147, 144, 141, 138, 135, 132, 129, 126, 123, 120, 117, 114, 111, 108, 105, 102, 99, 96, 93, 90, 87, 84, 81, 78, 75, 72, 69, 66, 63, 60, 57, 54, 51, 48, 45, 42, 39, 36, 33, 30, 27, 24, 21, 18, 15, 12, 9, 6, 3]\n"
     ]
    }
   ],
   "source": [
    "\n",
    "reverse_list = []\n",
    "for i in range(0,100,1):\n",
    "    x = (count_100.pop(-1))\n",
    "    reverse_list.append(x)\n",
    "print(reverse_list)\n",
    "    "
   ]
  },
  {
   "cell_type": "code",
   "execution_count": 5,
   "id": "c75c06e8",
   "metadata": {},
   "outputs": [
    {
     "name": "stdout",
     "output_type": "stream",
     "text": [
      "[] 0\n"
     ]
    }
   ],
   "source": [
    "back_50 = []\n",
    "mid_point = int(len(count_100)/2)\n",
    "\n",
    "for i in range(0,mid_point,1):\n",
    "    y = (count_100.pop(-1))\n",
    "    back_50.append(y)\n",
    "print(back_50, len(back_50))\n",
    "\n",
    "# this only works if you don't run it multiple times. the midpoint value will change if the original list is changed using the pop function\n",
    "\n"
   ]
  },
  {
   "cell_type": "code",
   "execution_count": 6,
   "id": "54ea5ec2",
   "metadata": {},
   "outputs": [
    {
     "data": {
      "text/plain": [
       "'392581470369258147036925814703690150111172132193153114175135196156117178138199159210271231292252213274234295255216277237298258219270'"
      ]
     },
     "execution_count": 6,
     "metadata": {},
     "output_type": "execute_result"
    }
   ],
   "source": [
    "variable[::2]"
   ]
  },
  {
   "cell_type": "code",
   "execution_count": 7,
   "id": "dc018bde",
   "metadata": {},
   "outputs": [],
   "source": [
    "# the dynamic list in python as denoted by list, is a different data type than tuples. A tuple is immutable, but lists make it possible to change. In python the contents of a tuple cannot change once created. Tuples use parentheses while lists use brackets."
   ]
  },
  {
   "cell_type": "code",
   "execution_count": 8,
   "id": "2a394c8e",
   "metadata": {},
   "outputs": [],
   "source": [
    "def is_prime(num):\n",
    "    if num == 0 or num == 1:\n",
    "        return False\n",
    "    for x in range (2, num):\n",
    "        if num % x == 0:\n",
    "            return False\n",
    "    else:\n",
    "         return True\n",
    "        \n",
    "        \n",
    "# this checks if there is any remainder from dividing a number (num) by any other number between 2 and num, which is the definition of a prime number. If there is no remainder it is not prime, so those are noted (false) if there is a remainder it is deemed (true) "
   ]
  },
  {
   "cell_type": "code",
   "execution_count": 9,
   "id": "8f20dd45",
   "metadata": {},
   "outputs": [
    {
     "name": "stdout",
     "output_type": "stream",
     "text": [
      "[2, 3, 5, 7, 11, 13, 17, 19, 23, 29, 31, 37, 41, 43, 47, 53, 59, 61, 67, 71, 73, 79, 83, 89, 97, 101, 103, 107, 109, 113, 127, 131, 137, 139, 149, 151, 157, 163, 167, 173, 179, 181, 191, 193, 197, 199, 211, 223, 227, 229, 233, 239, 241, 251, 257, 263, 269, 271, 277, 281, 283, 293, 307, 311, 313, 317, 331, 337, 347, 349, 353, 359, 367, 373, 379, 383, 389, 397, 401, 409, 419, 421, 431, 433, 439, 443, 449, 457, 461, 463, 467, 479, 487, 491, 499, 503, 509, 521, 523, 541] 100\n"
     ]
    }
   ],
   "source": [
    "generator = filter(is_prime, range(1,544))\n",
    "answer = list(generator)\n",
    "answer_backup = answer\n",
    "# this function uses filter to extract only the values that return true for the is_prime function previously defined. \n",
    "# I then print out to check both the numbers stored in the generator which hold the results we were looking for\n",
    "\n",
    "print(answer, len(answer))\n",
    "\n"
   ]
  },
  {
   "cell_type": "code",
   "execution_count": 10,
   "id": "d0bb3882",
   "metadata": {},
   "outputs": [],
   "source": [
    "#generators are a tool that allows for iterative calculation or continuous calculations of numbers in either a \n",
    "#set range or uncapped range. The generator stores data the same way that lists do but in a more compact form and can be converted to a list easily."
   ]
  },
  {
   "cell_type": "code",
   "execution_count": 11,
   "id": "6ee9bb68",
   "metadata": {},
   "outputs": [
    {
     "name": "stdout",
     "output_type": "stream",
     "text": [
      "[541, 523, 521, 509, 503, 499, 491, 487, 479, 467, 463, 461, 457, 449, 443, 439, 433, 431, 421, 419, 409, 401, 397, 389, 383, 379, 373, 367, 359, 353, 349, 347, 337, 331, 317, 313, 311, 307, 293, 283, 281, 277, 271, 269, 263, 257, 251, 241, 239, 233, 229, 227, 223, 211, 199, 197, 193, 191, 181, 179, 173, 167, 163, 157, 151, 149, 139, 137, 131, 127, 113, 109, 107, 103, 101, 97, 89, 83, 79, 73, 71, 67, 61, 59, 53, 47, 43, 41, 37, 31, 29, 23, 19, 17, 13, 11, 7, 5, 3, 2]\n"
     ]
    }
   ],
   "source": [
    "reverse_answer = []\n",
    "for i in range(0,100,1):\n",
    "    z = (answer.pop(-1))\n",
    "    reverse_answer.append(z)\n",
    "print(reverse_answer)\n",
    "    \n",
    "    \n",
    "    "
   ]
  },
  {
   "cell_type": "code",
   "execution_count": 12,
   "id": "bc262cdd",
   "metadata": {},
   "outputs": [
    {
     "ename": "NameError",
     "evalue": "name 'random' is not defined",
     "output_type": "error",
     "traceback": [
      "\u001b[1;31m---------------------------------------------------------------------------\u001b[0m",
      "\u001b[1;31mNameError\u001b[0m                                 Traceback (most recent call last)",
      "\u001b[1;32m~\\AppData\\Local\\Temp\\ipykernel_17636\\506764142.py\u001b[0m in \u001b[0;36m<module>\u001b[1;34m\u001b[0m\n\u001b[1;32m----> 1\u001b[1;33m \u001b[0mrandom\u001b[0m\u001b[1;33m.\u001b[0m\u001b[0mshuffle\u001b[0m\u001b[1;33m(\u001b[0m\u001b[0mfinal_answer\u001b[0m\u001b[1;33m)\u001b[0m\u001b[1;33m\u001b[0m\u001b[1;33m\u001b[0m\u001b[0m\n\u001b[0m\u001b[0;32m      2\u001b[0m \u001b[0mprint\u001b[0m\u001b[1;33m(\u001b[0m\u001b[0mfinal_answer\u001b[0m\u001b[1;33m)\u001b[0m\u001b[1;33m\u001b[0m\u001b[1;33m\u001b[0m\u001b[0m\n",
      "\u001b[1;31mNameError\u001b[0m: name 'random' is not defined"
     ]
    }
   ],
   "source": [
    "random.shuffle(final_answer)\n",
    "print(final_answer)\n",
    "#note: the random.shuffle will not work since we have not imported random. Below will be a working copy this is for my own notes"
   ]
  },
  {
   "cell_type": "code",
   "execution_count": null,
   "id": "ac3d7e51",
   "metadata": {},
   "outputs": [],
   "source": [
    "import random\n",
    "#first I import random so I have a series of random numbers from python's database\n",
    "import copy\n",
    "#import copy makes a shallow copy of reverse_answer into final_answer\n",
    "final_answer = reverse_answer\n",
    "#this is to use a new term\n",
    "random.shuffle(final_answer)\n",
    "#then we use random.shuffle to randomly shuffle the terms contained in our list\n",
    "print(final_answer)\n",
    "#print finall answer"
   ]
  },
  {
   "cell_type": "code",
   "execution_count": null,
   "id": "0bae37f3",
   "metadata": {},
   "outputs": [],
   "source": []
  }
 ],
 "metadata": {
  "kernelspec": {
   "display_name": "Python 3 (ipykernel)",
   "language": "python",
   "name": "python3"
  },
  "language_info": {
   "codemirror_mode": {
    "name": "ipython",
    "version": 3
   },
   "file_extension": ".py",
   "mimetype": "text/x-python",
   "name": "python",
   "nbconvert_exporter": "python",
   "pygments_lexer": "ipython3",
   "version": "3.9.13"
  }
 },
 "nbformat": 4,
 "nbformat_minor": 5
}
