{
 "cells": [
  {
   "cell_type": "markdown",
   "id": "bbe7185e",
   "metadata": {},
   "source": [
    "# Project 2 - Working with lists\n",
    "Working with Lists\n",
    "New Concepts\tDescription\n",
    "Dynamic List\tA dynamic list is encapsulated by brackets ([]). A list is mutable. Elements can be added to or deleted from a list on the fly.\n",
    "List Concatenation\tTwo lists can be joined together in the same manner that strings are concatenated.\n",
    "List Indexing\tLists are indexed with the first element being indexed as zero and the last element as the length of (number of elements in) the list less one. Indexes are called using brackets – i.e., lst[0] calls the 0th element in the list.\n",
    "In later chapters, we will combine lists with dictionaries to essential data structures. We will also work with more efficient and convenient data structures using the numpy and pandas libraries.\n",
    "\n",
    "Below we make our first lists. One will be empty. Another will contain integers. Another will have floats. Another strings. Another will mix these:"
   ]
  },
  {
   "cell_type": "code",
   "execution_count": 1,
   "id": "487f4b0d",
   "metadata": {},
   "outputs": [
    {
     "data": {
      "text/plain": [
       "[]"
      ]
     },
     "execution_count": 1,
     "metadata": {},
     "output_type": "execute_result"
    }
   ],
   "source": [
    "empty_list = []\n",
    "empty_list\n"
   ]
  },
  {
   "cell_type": "code",
   "execution_count": 2,
   "id": "9dfce595",
   "metadata": {},
   "outputs": [
    {
     "data": {
      "text/plain": [
       "[1, 2, 3, 4, 5]"
      ]
     },
     "execution_count": 2,
     "metadata": {},
     "output_type": "execute_result"
    }
   ],
   "source": [
    "int_list = [1,2,3,4,5]\n",
    "int_list"
   ]
  },
  {
   "cell_type": "code",
   "execution_count": 3,
   "id": "d93d3c14",
   "metadata": {},
   "outputs": [
    {
     "data": {
      "text/plain": [
       "{1.0, 2.0, 3.0, 4.0, 5.0}"
      ]
     },
     "execution_count": 3,
     "metadata": {},
     "output_type": "execute_result"
    }
   ],
   "source": [
    "float_list = {1.,2.,3.,4.,5.}\n",
    "float_list"
   ]
  },
  {
   "cell_type": "code",
   "execution_count": 4,
   "id": "663ac2ce",
   "metadata": {},
   "outputs": [
    {
     "data": {
      "text/plain": [
       "['many words', 'impoverished meaning']"
      ]
     },
     "execution_count": 4,
     "metadata": {},
     "output_type": "execute_result"
    }
   ],
   "source": [
    "string_list = [\"many words\", \"impoverished meaning\"]\n",
    "string_list"
   ]
  },
  {
   "cell_type": "code",
   "execution_count": 5,
   "id": "976a0696",
   "metadata": {},
   "outputs": [
    {
     "data": {
      "text/plain": [
       "([1, 2.0, 'mixitup'], list)"
      ]
     },
     "execution_count": 5,
     "metadata": {},
     "output_type": "execute_result"
    }
   ],
   "source": [
    "mixed_list = [1, 2., \"mixitup\"]\n",
    "mixed_list, type(mixed_list)"
   ]
  },
  {
   "cell_type": "code",
   "execution_count": 6,
   "id": "5d2cf6fc",
   "metadata": {},
   "outputs": [],
   "source": [
    "# experiment1\n",
    "\n"
   ]
  },
  {
   "cell_type": "markdown",
   "id": "70a5f768",
   "metadata": {},
   "source": [
    "#Concatenation: Lists"
   ]
  },
  {
   "cell_type": "code",
   "execution_count": 7,
   "id": "fc3af97d",
   "metadata": {},
   "outputs": [
    {
     "data": {
      "text/plain": [
       "[1, 2]"
      ]
     },
     "execution_count": 7,
     "metadata": {},
     "output_type": "execute_result"
    }
   ],
   "source": [
    "list1 = [1]\n",
    "list2 = [2]\n",
    "join_lists = list1 + list2\n",
    "join_lists"
   ]
  },
  {
   "cell_type": "code",
   "execution_count": 8,
   "id": "676944af",
   "metadata": {},
   "outputs": [
    {
     "data": {
      "text/plain": [
       "'12'"
      ]
     },
     "execution_count": 8,
     "metadata": {},
     "output_type": "execute_result"
    }
   ],
   "source": [
    "#similar to concatenating strings\n",
    "str1 = \"1\"\n",
    "str2 = \"2\"\n",
    "join_strs = str1 + str2\n",
    "join_strs"
   ]
  },
  {
   "cell_type": "markdown",
   "id": "9dd411c0",
   "metadata": {},
   "source": [
    "A for loop using in range will cycle through variable i from integer j to k - 1 by increments of l\n",
    "\n",
    "for i in range(j, k, l):\n",
    "\n",
    "    execute script"
   ]
  },
  {
   "cell_type": "code",
   "execution_count": 9,
   "id": "cd35b569",
   "metadata": {},
   "outputs": [
    {
     "name": "stdout",
     "output_type": "stream",
     "text": [
      "1\n",
      "2\n",
      "3\n",
      "4\n",
      "5\n",
      "6\n",
      "7\n",
      "8\n",
      "9\n",
      "10\n",
      "11\n",
      "12\n",
      "13\n",
      "14\n",
      "15\n",
      "16\n",
      "17\n",
      "18\n",
      "19\n",
      "20\n",
      "21\n",
      "22\n",
      "23\n",
      "24\n",
      "25\n",
      "26\n",
      "27\n",
      "28\n",
      "29\n",
      "30\n",
      "31\n",
      "32\n",
      "33\n",
      "34\n",
      "35\n",
      "36\n",
      "37\n",
      "38\n",
      "39\n",
      "40\n",
      "41\n",
      "42\n",
      "43\n",
      "44\n",
      "45\n",
      "46\n",
      "47\n",
      "48\n",
      "49\n",
      "50\n",
      "51\n",
      "52\n",
      "53\n",
      "54\n",
      "55\n",
      "56\n",
      "57\n",
      "58\n",
      "59\n",
      "60\n",
      "61\n",
      "62\n",
      "63\n",
      "64\n",
      "65\n",
      "66\n",
      "67\n",
      "68\n",
      "69\n",
      "70\n",
      "71\n",
      "72\n",
      "73\n",
      "74\n",
      "75\n",
      "76\n",
      "77\n",
      "78\n",
      "79\n",
      "80\n",
      "81\n",
      "82\n",
      "83\n",
      "84\n",
      "85\n",
      "86\n",
      "87\n",
      "88\n",
      "89\n",
      "90\n",
      "91\n",
      "92\n",
      "93\n",
      "94\n",
      "95\n",
      "96\n",
      "97\n",
      "98\n",
      "99\n",
      "100\n",
      "101\n",
      "102\n",
      "103\n",
      "104\n",
      "105\n",
      "106\n",
      "107\n",
      "108\n",
      "109\n",
      "110\n",
      "111\n",
      "112\n",
      "113\n",
      "114\n",
      "115\n",
      "116\n",
      "117\n",
      "118\n",
      "119\n",
      "120\n",
      "121\n",
      "122\n",
      "123\n",
      "124\n",
      "125\n",
      "126\n",
      "127\n",
      "128\n",
      "129\n",
      "130\n",
      "131\n",
      "132\n",
      "133\n",
      "134\n",
      "135\n",
      "136\n",
      "137\n",
      "138\n",
      "139\n",
      "140\n",
      "141\n",
      "142\n",
      "143\n",
      "144\n",
      "145\n",
      "146\n",
      "147\n",
      "148\n",
      "149\n",
      "150\n",
      "151\n",
      "152\n",
      "153\n",
      "154\n",
      "155\n",
      "156\n",
      "157\n",
      "158\n",
      "159\n",
      "160\n",
      "161\n",
      "162\n",
      "163\n",
      "164\n",
      "165\n",
      "166\n",
      "167\n",
      "168\n",
      "169\n",
      "170\n",
      "171\n",
      "172\n",
      "173\n",
      "174\n",
      "175\n",
      "176\n",
      "177\n",
      "178\n",
      "179\n",
      "180\n",
      "181\n",
      "182\n",
      "183\n",
      "184\n",
      "185\n",
      "186\n",
      "187\n",
      "188\n",
      "189\n",
      "190\n",
      "191\n",
      "192\n",
      "193\n",
      "194\n",
      "195\n",
      "196\n",
      "197\n",
      "198\n",
      "199\n",
      "200\n",
      "201\n",
      "202\n",
      "203\n",
      "204\n",
      "205\n",
      "206\n",
      "207\n",
      "208\n",
      "209\n",
      "210\n",
      "211\n",
      "212\n",
      "213\n",
      "214\n",
      "215\n",
      "216\n",
      "217\n",
      "218\n",
      "219\n",
      "220\n",
      "221\n",
      "222\n",
      "223\n",
      "224\n",
      "225\n",
      "226\n",
      "227\n",
      "228\n",
      "229\n",
      "230\n",
      "231\n",
      "232\n",
      "233\n",
      "234\n",
      "235\n",
      "236\n",
      "237\n",
      "238\n",
      "239\n",
      "240\n",
      "241\n",
      "242\n",
      "243\n",
      "244\n",
      "245\n",
      "246\n",
      "247\n",
      "248\n",
      "249\n",
      "250\n",
      "251\n",
      "252\n",
      "253\n",
      "254\n",
      "255\n",
      "256\n",
      "257\n",
      "258\n",
      "259\n",
      "260\n",
      "261\n",
      "262\n",
      "263\n",
      "264\n",
      "265\n",
      "266\n",
      "267\n",
      "268\n",
      "269\n",
      "270\n",
      "271\n",
      "272\n",
      "273\n",
      "274\n",
      "275\n",
      "276\n",
      "277\n",
      "278\n",
      "279\n",
      "280\n",
      "281\n",
      "282\n",
      "283\n",
      "284\n",
      "285\n",
      "286\n",
      "287\n",
      "288\n",
      "289\n",
      "290\n",
      "291\n",
      "292\n",
      "293\n",
      "294\n",
      "295\n",
      "296\n",
      "297\n",
      "298\n",
      "299\n",
      "300\n",
      "301\n",
      "302\n",
      "303\n",
      "304\n",
      "305\n",
      "306\n",
      "307\n",
      "308\n",
      "309\n",
      "310\n",
      "311\n",
      "312\n",
      "313\n",
      "314\n",
      "315\n",
      "316\n",
      "317\n",
      "318\n",
      "319\n",
      "320\n",
      "321\n",
      "322\n",
      "323\n",
      "324\n",
      "325\n",
      "326\n",
      "327\n",
      "328\n",
      "329\n",
      "330\n",
      "331\n",
      "332\n",
      "333\n",
      "334\n",
      "335\n",
      "336\n",
      "337\n",
      "338\n",
      "339\n",
      "340\n",
      "341\n",
      "342\n",
      "343\n",
      "344\n",
      "345\n",
      "346\n",
      "347\n",
      "348\n",
      "349\n",
      "350\n",
      "351\n",
      "352\n",
      "353\n",
      "354\n",
      "355\n",
      "356\n",
      "357\n",
      "358\n",
      "359\n",
      "360\n",
      "361\n",
      "362\n",
      "363\n",
      "364\n",
      "365\n",
      "366\n",
      "367\n",
      "368\n",
      "369\n",
      "370\n",
      "371\n",
      "372\n",
      "373\n",
      "374\n",
      "375\n",
      "376\n",
      "377\n",
      "378\n",
      "379\n",
      "380\n",
      "381\n",
      "382\n",
      "383\n",
      "384\n",
      "385\n",
      "386\n",
      "387\n",
      "388\n",
      "389\n",
      "390\n",
      "391\n",
      "392\n",
      "393\n",
      "394\n",
      "395\n",
      "396\n",
      "397\n",
      "398\n",
      "399\n",
      "400\n",
      "401\n",
      "402\n",
      "403\n",
      "404\n",
      "405\n",
      "406\n",
      "407\n",
      "408\n",
      "409\n",
      "410\n",
      "411\n",
      "412\n",
      "413\n",
      "414\n",
      "415\n",
      "416\n",
      "417\n",
      "418\n",
      "419\n",
      "420\n",
      "421\n",
      "422\n",
      "423\n",
      "424\n",
      "425\n",
      "426\n",
      "427\n",
      "428\n",
      "429\n",
      "430\n",
      "431\n",
      "432\n",
      "433\n",
      "434\n",
      "435\n",
      "436\n",
      "437\n",
      "438\n",
      "439\n",
      "440\n",
      "441\n",
      "442\n",
      "443\n",
      "444\n",
      "445\n",
      "446\n",
      "447\n",
      "448\n",
      "449\n",
      "450\n",
      "451\n",
      "452\n",
      "453\n",
      "454\n",
      "455\n",
      "456\n",
      "457\n",
      "458\n",
      "459\n",
      "460\n",
      "461\n",
      "462\n",
      "463\n",
      "464\n",
      "465\n",
      "466\n",
      "467\n",
      "468\n",
      "469\n",
      "470\n",
      "471\n",
      "472\n",
      "473\n",
      "474\n",
      "475\n",
      "476\n",
      "477\n",
      "478\n",
      "479\n",
      "480\n",
      "481\n",
      "482\n",
      "483\n",
      "484\n",
      "485\n",
      "486\n",
      "487\n",
      "488\n",
      "489\n",
      "490\n",
      "491\n",
      "492\n",
      "493\n",
      "494\n",
      "495\n",
      "496\n",
      "497\n",
      "498\n",
      "499\n",
      "500\n",
      "501\n",
      "502\n",
      "503\n",
      "504\n",
      "505\n",
      "506\n",
      "507\n",
      "508\n",
      "509\n",
      "510\n",
      "511\n",
      "512\n",
      "513\n",
      "514\n",
      "515\n",
      "516\n",
      "517\n",
      "518\n",
      "519\n",
      "520\n",
      "521\n",
      "522\n",
      "523\n",
      "524\n",
      "525\n",
      "526\n",
      "527\n",
      "528\n",
      "529\n",
      "530\n",
      "531\n",
      "532\n",
      "533\n",
      "534\n",
      "535\n",
      "536\n",
      "537\n",
      "538\n",
      "539\n",
      "540\n",
      "541\n",
      "542\n",
      "543\n",
      "544\n",
      "545\n",
      "546\n",
      "547\n",
      "548\n",
      "549\n",
      "550\n",
      "551\n",
      "552\n",
      "553\n",
      "554\n",
      "555\n",
      "556\n",
      "557\n",
      "558\n",
      "559\n",
      "560\n",
      "561\n",
      "562\n",
      "563\n",
      "564\n",
      "565\n",
      "566\n",
      "567\n",
      "568\n",
      "569\n",
      "570\n",
      "571\n",
      "572\n",
      "573\n",
      "574\n",
      "575\n",
      "576\n",
      "577\n",
      "578\n",
      "579\n",
      "580\n",
      "581\n",
      "582\n",
      "583\n",
      "584\n",
      "585\n",
      "586\n",
      "587\n",
      "588\n",
      "589\n",
      "590\n",
      "591\n",
      "592\n",
      "593\n",
      "594\n",
      "595\n",
      "596\n",
      "597\n",
      "598\n",
      "599\n",
      "600\n",
      "601\n",
      "602\n",
      "603\n",
      "604\n",
      "605\n",
      "606\n",
      "607\n",
      "608\n",
      "609\n",
      "610\n",
      "611\n",
      "612\n",
      "613\n",
      "614\n",
      "615\n",
      "616\n",
      "617\n",
      "618\n",
      "619\n",
      "620\n",
      "621\n",
      "622\n",
      "623\n",
      "624\n",
      "625\n",
      "626\n",
      "627\n",
      "628\n",
      "629\n",
      "630\n",
      "631\n",
      "632\n",
      "633\n",
      "634\n",
      "635\n",
      "636\n",
      "637\n",
      "638\n",
      "639\n",
      "640\n",
      "641\n",
      "642\n",
      "643\n",
      "644\n",
      "645\n",
      "646\n",
      "647\n",
      "648\n",
      "649\n",
      "650\n",
      "651\n",
      "652\n",
      "653\n",
      "654\n",
      "655\n",
      "656\n",
      "657\n",
      "658\n",
      "659\n",
      "660\n",
      "661\n",
      "662\n",
      "663\n",
      "664\n",
      "665\n",
      "666\n",
      "667\n",
      "668\n",
      "669\n",
      "670\n",
      "671\n",
      "672\n",
      "673\n",
      "674\n",
      "675\n",
      "676\n",
      "677\n",
      "678\n",
      "679\n",
      "680\n",
      "681\n",
      "682\n",
      "683\n",
      "684\n",
      "685\n",
      "686\n",
      "687\n",
      "688\n",
      "689\n",
      "690\n",
      "691\n",
      "692\n",
      "693\n",
      "694\n",
      "695\n",
      "696\n",
      "697\n",
      "698\n",
      "699\n",
      "700\n",
      "701\n",
      "702\n",
      "703\n",
      "704\n",
      "705\n",
      "706\n",
      "707\n",
      "708\n",
      "709\n",
      "710\n",
      "711\n",
      "712\n",
      "713\n",
      "714\n",
      "715\n",
      "716\n",
      "717\n",
      "718\n",
      "719\n",
      "720\n",
      "721\n",
      "722\n",
      "723\n",
      "724\n",
      "725\n",
      "726\n",
      "727\n",
      "728\n",
      "729\n",
      "730\n",
      "731\n",
      "732\n",
      "733\n",
      "734\n",
      "735\n",
      "736\n",
      "737\n",
      "738\n",
      "739\n",
      "740\n",
      "741\n",
      "742\n",
      "743\n",
      "744\n",
      "745\n",
      "746\n",
      "747\n",
      "748\n",
      "749\n",
      "750\n",
      "751\n",
      "752\n",
      "753\n",
      "754\n",
      "755\n",
      "756\n",
      "757\n",
      "758\n",
      "759\n",
      "760\n",
      "761\n",
      "762\n",
      "763\n",
      "764\n",
      "765\n",
      "766\n",
      "767\n",
      "768\n",
      "769\n",
      "770\n",
      "771\n",
      "772\n",
      "773\n",
      "774\n",
      "775\n",
      "776\n",
      "777\n",
      "778\n",
      "779\n",
      "780\n",
      "781\n",
      "782\n",
      "783\n",
      "784\n",
      "785\n",
      "786\n",
      "787\n",
      "788\n",
      "789\n",
      "790\n",
      "791\n",
      "792\n",
      "793\n",
      "794\n",
      "795\n",
      "796\n",
      "797\n",
      "798\n",
      "799\n",
      "800\n",
      "801\n",
      "802\n",
      "803\n",
      "804\n",
      "805\n",
      "806\n",
      "807\n",
      "808\n",
      "809\n",
      "810\n",
      "811\n",
      "812\n",
      "813\n",
      "814\n",
      "815\n",
      "816\n",
      "817\n",
      "818\n",
      "819\n",
      "820\n",
      "821\n",
      "822\n",
      "823\n",
      "824\n",
      "825\n",
      "826\n",
      "827\n",
      "828\n",
      "829\n",
      "830\n",
      "831\n",
      "832\n",
      "833\n",
      "834\n",
      "835\n",
      "836\n",
      "837\n",
      "838\n",
      "839\n",
      "840\n",
      "841\n",
      "842\n",
      "843\n",
      "844\n",
      "845\n",
      "846\n",
      "847\n",
      "848\n",
      "849\n",
      "850\n",
      "851\n",
      "852\n",
      "853\n",
      "854\n",
      "855\n",
      "856\n",
      "857\n",
      "858\n",
      "859\n",
      "860\n",
      "861\n",
      "862\n",
      "863\n",
      "864\n",
      "865\n",
      "866\n",
      "867\n",
      "868\n",
      "869\n",
      "870\n",
      "871\n",
      "872\n",
      "873\n",
      "874\n",
      "875\n",
      "876\n",
      "877\n",
      "878\n",
      "879\n",
      "880\n",
      "881\n",
      "882\n",
      "883\n",
      "884\n",
      "885\n",
      "886\n",
      "887\n",
      "888\n",
      "889\n",
      "890\n",
      "891\n",
      "892\n",
      "893\n",
      "894\n",
      "895\n",
      "896\n",
      "897\n",
      "898\n",
      "899\n",
      "900\n",
      "901\n",
      "902\n",
      "903\n",
      "904\n",
      "905\n",
      "906\n",
      "907\n",
      "908\n",
      "909\n",
      "910\n",
      "911\n",
      "912\n",
      "913\n",
      "914\n",
      "915\n",
      "916\n",
      "917\n",
      "918\n",
      "919\n",
      "920\n",
      "921\n",
      "922\n",
      "923\n",
      "924\n",
      "925\n",
      "926\n",
      "927\n",
      "928\n",
      "929\n",
      "930\n",
      "931\n",
      "932\n",
      "933\n",
      "934\n",
      "935\n",
      "936\n",
      "937\n",
      "938\n",
      "939\n",
      "940\n",
      "941\n",
      "942\n",
      "943\n",
      "944\n",
      "945\n",
      "946\n",
      "947\n",
      "948\n",
      "949\n",
      "950\n",
      "951\n",
      "952\n",
      "953\n",
      "954\n",
      "955\n",
      "956\n",
      "957\n",
      "958\n",
      "959\n",
      "960\n",
      "961\n",
      "962\n",
      "963\n",
      "964\n",
      "965\n",
      "966\n",
      "967\n",
      "968\n",
      "969\n",
      "970\n",
      "971\n",
      "972\n",
      "973\n",
      "974\n",
      "975\n",
      "976\n",
      "977\n",
      "978\n",
      "979\n",
      "980\n",
      "981\n",
      "982\n",
      "983\n",
      "984\n",
      "985\n",
      "986\n",
      "987\n",
      "988\n",
      "989\n",
      "990\n",
      "991\n",
      "992\n",
      "993\n",
      "994\n",
      "995\n",
      "996\n",
      "997\n",
      "998\n",
      "999\n"
     ]
    }
   ],
   "source": [
    "for i in range(1, 10 ** 3):\n",
    "    print(i)"
   ]
  },
  {
   "cell_type": "code",
   "execution_count": 10,
   "id": "5bc04657",
   "metadata": {},
   "outputs": [
    {
     "name": "stdout",
     "output_type": "stream",
     "text": [
      "1\n",
      "3\n",
      "5\n",
      "7\n",
      "9\n",
      "11\n",
      "13\n",
      "15\n",
      "17\n",
      "19\n",
      "21\n",
      "23\n",
      "25\n",
      "27\n",
      "29\n",
      "31\n",
      "33\n",
      "35\n",
      "37\n",
      "39\n",
      "41\n",
      "43\n",
      "45\n",
      "47\n",
      "49\n"
     ]
    }
   ],
   "source": [
    "for i in range(1, 50, 2):\n",
    "    print(i)"
   ]
  },
  {
   "cell_type": "code",
   "execution_count": 11,
   "id": "c30b521f",
   "metadata": {},
   "outputs": [
    {
     "name": "stdout",
     "output_type": "stream",
     "text": [
      "1 1\n",
      "2 3\n",
      "3 6\n",
      "4 10\n",
      "5 15\n",
      "6 21\n",
      "7 28\n",
      "8 36\n",
      "9 45\n",
      "10 55\n",
      "11 66\n",
      "12 78\n",
      "13 91\n",
      "14 105\n",
      "15 120\n",
      "16 136\n",
      "17 153\n",
      "18 171\n",
      "19 190\n",
      "20 210\n",
      "21 231\n",
      "22 253\n",
      "23 276\n",
      "24 300\n",
      "25 325\n",
      "26 351\n",
      "27 378\n",
      "28 406\n",
      "29 435\n",
      "30 465\n",
      "31 496\n",
      "32 528\n",
      "33 561\n",
      "34 595\n",
      "35 630\n",
      "36 666\n",
      "37 703\n",
      "38 741\n",
      "39 780\n",
      "40 820\n",
      "41 861\n",
      "42 903\n",
      "43 946\n",
      "44 990\n",
      "45 1035\n",
      "46 1081\n",
      "47 1128\n",
      "48 1176\n",
      "49 1225\n",
      "50 1275\n",
      "51 1326\n",
      "52 1378\n",
      "53 1431\n",
      "54 1485\n",
      "55 1540\n",
      "56 1596\n",
      "57 1653\n",
      "58 1711\n",
      "59 1770\n",
      "60 1830\n",
      "61 1891\n",
      "62 1953\n",
      "63 2016\n",
      "64 2080\n",
      "65 2145\n",
      "66 2211\n",
      "67 2278\n",
      "68 2346\n",
      "69 2415\n",
      "70 2485\n",
      "71 2556\n",
      "72 2628\n",
      "73 2701\n",
      "74 2775\n",
      "75 2850\n",
      "76 2926\n",
      "77 3003\n",
      "78 3081\n",
      "79 3160\n",
      "80 3240\n",
      "81 3321\n",
      "82 3403\n",
      "83 3486\n",
      "84 3570\n",
      "85 3655\n",
      "86 3741\n",
      "87 3828\n",
      "88 3916\n",
      "89 4005\n",
      "90 4095\n",
      "91 4186\n",
      "92 4278\n",
      "93 4371\n",
      "94 4465\n",
      "95 4560\n",
      "96 4656\n",
      "97 4753\n",
      "98 4851\n",
      "99 4950\n",
      "100 5050\n",
      "5050\n"
     ]
    }
   ],
   "source": [
    "total = 0\n",
    "for i in range(1, 101):\n",
    "    total = total + i\n",
    "    print(i, total)\n",
    "print(total)\n"
   ]
  },
  {
   "cell_type": "code",
   "execution_count": 12,
   "id": "6bb2e35e",
   "metadata": {},
   "outputs": [
    {
     "name": "stdout",
     "output_type": "stream",
     "text": [
      "1 1\n",
      "3 4\n",
      "5 9\n",
      "7 16\n",
      "9 25\n",
      "11 36\n",
      "13 49\n",
      "15 64\n",
      "17 81\n",
      "19 100\n",
      "21 121\n",
      "23 144\n",
      "25 169\n",
      "27 196\n",
      "29 225\n",
      "31 256\n",
      "33 289\n",
      "35 324\n",
      "37 361\n",
      "39 400\n",
      "41 441\n",
      "43 484\n",
      "45 529\n",
      "47 576\n",
      "49 625\n",
      "51 676\n",
      "53 729\n",
      "55 784\n",
      "57 841\n",
      "59 900\n",
      "61 961\n",
      "63 1024\n",
      "65 1089\n",
      "67 1156\n",
      "69 1225\n",
      "71 1296\n",
      "73 1369\n",
      "75 1444\n",
      "77 1521\n",
      "79 1600\n",
      "81 1681\n",
      "83 1764\n",
      "85 1849\n",
      "87 1936\n",
      "89 2025\n",
      "91 2116\n",
      "93 2209\n",
      "95 2304\n",
      "97 2401\n",
      "99 2500\n"
     ]
    }
   ],
   "source": [
    "total = 0\n",
    "for i in range(1, 101, 2):\n",
    "    total = total + i\n",
    "    print(i, total)"
   ]
  },
  {
   "cell_type": "code",
   "execution_count": 13,
   "id": "8e59a904",
   "metadata": {},
   "outputs": [
    {
     "name": "stdout",
     "output_type": "stream",
     "text": [
      "543\n",
      "4346\n",
      "24\n",
      "13\n",
      "45\n",
      "j False\n",
      "f False\n",
      "p False\n",
      "o False\n",
      "i False\n",
      "k True\n",
      "3 False\n",
      "4 False\n",
      "o False\n",
      "i False\n"
     ]
    }
   ],
   "source": [
    "list1 = [543,4346,24,13,45]\n",
    "str1 = \"jfpoik34oi\"\n",
    "for val in list1:\n",
    "    print(val)\n",
    "    \n",
    "for string in str1:\n",
    "    print(string, string == \"k\")"
   ]
  },
  {
   "cell_type": "code",
   "execution_count": 14,
   "id": "02075c51",
   "metadata": {},
   "outputs": [
    {
     "name": "stdout",
     "output_type": "stream",
     "text": [
      "['$$$', 'bacon', 'turkey', 1.0, 4.0, 2]\n"
     ]
    }
   ],
   "source": [
    "list2 = [\"$$$\",\"bacon\",\"turkey\"]\n",
    "list3 = [1.,4.,2]\n",
    "combined = list2 + list3\n",
    "print(combined)"
   ]
  },
  {
   "cell_type": "markdown",
   "id": "1d87adfd",
   "metadata": {},
   "source": [
    "## More on range()"
   ]
  },
  {
   "cell_type": "code",
   "execution_count": 15,
   "id": "6713b884",
   "metadata": {},
   "outputs": [
    {
     "name": "stdout",
     "output_type": "stream",
     "text": [
      "0\n",
      "2\n",
      "4\n",
      "6\n",
      "8\n",
      "[0, 2, 4, 6, 8]\n"
     ]
    }
   ],
   "source": [
    "# create a list by appending values on the list\n",
    "list1 = []\n",
    "for i in range(0, 9, 2):\n",
    "    print(i)\n",
    "    list1.append(i)\n",
    "    \n",
    "print(list1)\n",
    "    "
   ]
  },
  {
   "cell_type": "code",
   "execution_count": 16,
   "id": "85d392cb",
   "metadata": {},
   "outputs": [
    {
     "data": {
      "text/plain": [
       "[0, 1, 2, 3, 4, 5, 6, 7, 8]"
      ]
     },
     "execution_count": 16,
     "metadata": {},
     "output_type": "execute_result"
    }
   ],
   "source": [
    "#create a list by passing range(i,j,l), \n",
    "#more efficient contributor to using append  within a for loop\n",
    "\n",
    "list2 = list(range(0,9,1))\n",
    "list2"
   ]
  },
  {
   "cell_type": "markdown",
   "id": "c218923a",
   "metadata": {},
   "source": [
    "### using len with range"
   ]
  },
  {
   "cell_type": "code",
   "execution_count": 17,
   "id": "00032938",
   "metadata": {
    "scrolled": true
   },
   "outputs": [
    {
     "name": "stdout",
     "output_type": "stream",
     "text": [
      "i val\n",
      "0 0\n",
      "1 1\n",
      "2 2\n",
      "3 3\n",
      "4 4\n",
      "5 5\n",
      "6 6\n",
      "7 7\n",
      "8 8\n"
     ]
    }
   ],
   "source": [
    "list2_len = len(list2)\n",
    "print(\"i\", \"val\")\n",
    "for i in range(list2_len):\n",
    "    print(i, list2[i])"
   ]
  },
  {
   "cell_type": "markdown",
   "id": "e94fb23d",
   "metadata": {},
   "source": [
    "### Nested for Loop\n"
   ]
  },
  {
   "cell_type": "code",
   "execution_count": 18,
   "id": "497c5ae0",
   "metadata": {},
   "outputs": [
    {
     "name": "stdout",
     "output_type": "stream",
     "text": [
      "i list\n",
      "1 [0, 1, 2, 3, 4, 5, 6, 7, 8]\n",
      "length: 9\n",
      "j val\n",
      "0 0\n",
      "1 1\n",
      "2 2\n",
      "3 3\n",
      "4 4\n",
      "5 5\n",
      "6 6\n",
      "7 7\n",
      "8 8\n",
      "2 [0, 2, 4, 6, 8]\n",
      "length: 5\n",
      "j val\n",
      "0 0\n",
      "1 2\n",
      "2 4\n",
      "3 6\n",
      "4 8\n",
      "3 [0, 3, 6]\n",
      "length: 3\n",
      "j val\n",
      "0 0\n",
      "1 3\n",
      "2 6\n",
      "4 [0, 4, 8]\n",
      "length: 3\n",
      "j val\n",
      "0 0\n",
      "1 4\n",
      "2 8\n",
      "5 [0, 5]\n",
      "length: 2\n",
      "j val\n",
      "0 0\n",
      "1 5\n"
     ]
    }
   ],
   "source": [
    "list2_len = len(list2)\n",
    "print(\"i\",\"list\")\n",
    "\n",
    "#create a new list2 according to the interval values call by the for loop\n",
    "for interval in range(1, 6):\n",
    "    list2 = list(range(0,9, interval))\n",
    "    print(interval, list2)\n",
    "    list2_len = len(list2)\n",
    "    print(\"length:\", list2_len)\n",
    "    print( \"j\", \"val\")\n",
    "    \n",
    "# for i in range(list2_len):\n",
    "\n",
    "    for j in range(list2_len):\n",
    "        print(j,list2[j])\n",
    "\n"
   ]
  },
  {
   "cell_type": "markdown",
   "id": "d8e757a8",
   "metadata": {},
   "source": [
    "## if statements and boolean variables"
   ]
  },
  {
   "cell_type": "code",
   "execution_count": 19,
   "id": "fe09625c",
   "metadata": {},
   "outputs": [
    {
     "data": {
      "text/plain": [
       "True"
      ]
     },
     "execution_count": 19,
     "metadata": {},
     "output_type": "execute_result"
    }
   ],
   "source": [
    "True"
   ]
  },
  {
   "cell_type": "code",
   "execution_count": 20,
   "id": "32dc3992",
   "metadata": {},
   "outputs": [
    {
     "data": {
      "text/plain": [
       "False"
      ]
     },
     "execution_count": 20,
     "metadata": {},
     "output_type": "execute_result"
    }
   ],
   "source": [
    "False"
   ]
  },
  {
   "cell_type": "code",
   "execution_count": 21,
   "id": "360fa1f0",
   "metadata": {},
   "outputs": [
    {
     "data": {
      "text/plain": [
       "0"
      ]
     },
     "execution_count": 21,
     "metadata": {},
     "output_type": "execute_result"
    }
   ],
   "source": [
    "#boolean\n",
    "True * False\n"
   ]
  },
  {
   "cell_type": "code",
   "execution_count": 22,
   "id": "57f41695",
   "metadata": {},
   "outputs": [
    {
     "data": {
      "text/plain": [
       "1"
      ]
     },
     "execution_count": 22,
     "metadata": {},
     "output_type": "execute_result"
    }
   ],
   "source": [
    "True * True"
   ]
  },
  {
   "cell_type": "code",
   "execution_count": 23,
   "id": "83b4d645",
   "metadata": {},
   "outputs": [
    {
     "data": {
      "text/plain": [
       "0"
      ]
     },
     "execution_count": 23,
     "metadata": {},
     "output_type": "execute_result"
    }
   ],
   "source": [
    "False * False"
   ]
  },
  {
   "cell_type": "code",
   "execution_count": 24,
   "id": "33d9a9ea",
   "metadata": {},
   "outputs": [
    {
     "name": "stdout",
     "output_type": "stream",
     "text": [
      "True\n"
     ]
    }
   ],
   "source": [
    "boolean = True\n",
    "if boolean: # if boolean ===True\n",
    "    print(boolean)\n",
    "      \n",
    "\n",
    "boolean2 = True\n",
    "if boolean2 == False:\n",
    "    print(boolean2)\n",
    "    print(\"if boolean2 is false, then you just printed this text. If not, then nothing happened\")"
   ]
  },
  {
   "cell_type": "code",
   "execution_count": 25,
   "id": "d793f4c6",
   "metadata": {},
   "outputs": [
    {
     "name": "stdout",
     "output_type": "stream",
     "text": [
      "this is false\n"
     ]
    }
   ],
   "source": [
    "boolean3 = False\n",
    "if boolean3:\n",
    "    print(\"this is true\") \n",
    "if boolean3 == False:\n",
    "    print(\"this is false\")"
   ]
  },
  {
   "cell_type": "code",
   "execution_count": 26,
   "id": "a256884d",
   "metadata": {},
   "outputs": [
    {
     "data": {
      "text/plain": [
       "True"
      ]
     },
     "execution_count": 26,
     "metadata": {},
     "output_type": "execute_result"
    }
   ],
   "source": [
    "False == False\n"
   ]
  },
  {
   "cell_type": "code",
   "execution_count": 27,
   "id": "24a6bdc1",
   "metadata": {},
   "outputs": [
    {
     "data": {
      "text/plain": [
       "True"
      ]
     },
     "execution_count": 27,
     "metadata": {},
     "output_type": "execute_result"
    }
   ],
   "source": [
    "1 == True"
   ]
  },
  {
   "cell_type": "code",
   "execution_count": 28,
   "id": "ff69fe39",
   "metadata": {},
   "outputs": [
    {
     "data": {
      "text/plain": [
       "False"
      ]
     },
     "execution_count": 28,
     "metadata": {},
     "output_type": "execute_result"
    }
   ],
   "source": [
    "# != is \"not equal to\"\n",
    "1 != True"
   ]
  },
  {
   "cell_type": "markdown",
   "id": "e5a7e8d3",
   "metadata": {},
   "source": [
    "##Use a boolean variable to track appearance of the word \"ate\""
   ]
  },
  {
   "cell_type": "code",
   "execution_count": 29,
   "id": "04dbd5ec",
   "metadata": {
    "scrolled": true
   },
   "outputs": [
    {
     "name": "stdout",
     "output_type": "stream",
     "text": [
      "0 is the word the \"ate\"? False\n",
      "1 is the word dog \"ate\"? False\n",
      "2 is the word ate \"ate\"? True\n",
      "3 is the word the \"ate\"? False\n",
      "4 is the word snow \"ate\"? False\n",
      "5 is the word and \"ate\"? False\n",
      "6 is the word ate \"ate\"? True\n",
      "7 is the word his \"ate\"? False\n",
      "8 is the word dog \"ate\"? False\n",
      "9 is the word food \"ate\"? False\n"
     ]
    },
    {
     "data": {
      "text/plain": [
       "[2, 6]"
      ]
     },
     "execution_count": 29,
     "metadata": {},
     "output_type": "execute_result"
    }
   ],
   "source": [
    "words = [\"the\", \"dog\", \"ate\", \"the\", \"snow\", \"and\", \"ate\", \"his\", \"dog\", \"food\"]\n",
    "# does the word \"ate\" appear in the list, if so where?\n",
    "num_words = len(words)\n",
    "ate_index_list=[]\n",
    "\n",
    "for i in range(num_words):\n",
    "    # save the string at index i as word\n",
    "    word = words[i]\n",
    "    # isate is a boolean that tells whether or not the current word is \"ate\"\n",
    "    is_ate = word == \"ate\"\n",
    "    print(i,\"is the word\", word, \"\\\"ate\\\"?\", is_ate)\n",
    "    \n",
    "    # if the word is \"ate\", then add the index to the list so we can have an easy to reference record of the indices where ate appears\n",
    "    if is_ate:\n",
    "        ate_index_list.append(i)\n",
    "ate_index_list\n"
   ]
  },
  {
   "cell_type": "code",
   "execution_count": 30,
   "id": "ffb28523",
   "metadata": {},
   "outputs": [
    {
     "data": {
      "text/plain": [
       "False"
      ]
     },
     "execution_count": 30,
     "metadata": {},
     "output_type": "execute_result"
    }
   ],
   "source": [
    "is_ate = word == \"ate\"\n",
    "is_ate"
   ]
  },
  {
   "cell_type": "code",
   "execution_count": 31,
   "id": "61a60899",
   "metadata": {},
   "outputs": [],
   "source": [
    "players = [\"1\",\"2\",\"3\",\"4\",\"5\",\"6\",\"7\",\"8\",\"9\",\"10\",\"11\",\"12\",\"13\",\"14\",\"15\",\"16\",\"17\",\"18\"]\n",
    "\n"
   ]
  },
  {
   "cell_type": "markdown",
   "id": "ff6c09c5",
   "metadata": {},
   "source": [
    "# if, else, and elif"
   ]
  },
  {
   "cell_type": "code",
   "execution_count": 32,
   "id": "9640dc3c",
   "metadata": {},
   "outputs": [
    {
     "name": "stdout",
     "output_type": "stream",
     "text": [
      "1 number is smol boy\n",
      "14 number is big boy\n",
      "23 number is big boy\n",
      "643 number is big boy\n",
      "345 number is big boy\n",
      "1 number is smol boy\n",
      "213 number is big boy\n",
      "4 number is smol boy\n",
      "7 number is smol boy\n",
      "8 number is smol boy\n"
     ]
    }
   ],
   "source": [
    "random_numbers = (1,14,23,643,345,1,213,4,7,8)\n",
    "\n",
    "# is the number greater than 10?\n",
    "not_greater_than_10 = []\n",
    "greater_than_10 = []\n",
    "\n",
    "for number in random_numbers:\n",
    "    if number > 10:\n",
    "        print(number, \"number is big boy\")\n",
    "        greater_than_10.append(number)\n",
    "    else:\n",
    "        print(number, \"number is smol boy\")\n",
    "        not_greater_than_10.append(number)"
   ]
  },
  {
   "cell_type": "code",
   "execution_count": 33,
   "id": "df458885",
   "metadata": {},
   "outputs": [
    {
     "data": {
      "text/plain": [
       "[1, 1, 4, 7, 8]"
      ]
     },
     "execution_count": 33,
     "metadata": {},
     "output_type": "execute_result"
    }
   ],
   "source": [
    "not_greater_than_10"
   ]
  },
  {
   "cell_type": "code",
   "execution_count": 34,
   "id": "ae4f1af8",
   "metadata": {},
   "outputs": [
    {
     "data": {
      "text/plain": [
       "[14, 23, 643, 345, 213]"
      ]
     },
     "execution_count": 34,
     "metadata": {},
     "output_type": "execute_result"
    }
   ],
   "source": [
    "greater_than_10"
   ]
  },
  {
   "cell_type": "code",
   "execution_count": 35,
   "id": "b95a4999",
   "metadata": {},
   "outputs": [
    {
     "name": "stdout",
     "output_type": "stream",
     "text": [
      "1 in domain of 0 & 10\n",
      "14 number greater than 10\n",
      "23 number greater than 10\n",
      "643 number greater than 10\n",
      "345 number greater than 10\n",
      "1 in domain of 0 & 10\n",
      "213 number greater than 10\n",
      "4 in domain of 0 & 10\n",
      "7 in domain of 0 & 10\n",
      "8 in domain of 0 & 10\n",
      "-1 is negative\n",
      "-15 is negative\n",
      "-60 is negative\n",
      "8.5 in domain of 0 & 10\n"
     ]
    }
   ],
   "source": [
    "random_numbers = (1,14,23,643,345,1,213,4,7,8,-1,-15,-60,\"8.5\")\n",
    "\n",
    "# is the number greater than 10?\n",
    "zero_to_10 = []\n",
    "greater_than_10 = []\n",
    "Negative_numbers = []\n",
    "\n",
    "for number in random_numbers:\n",
    "    \n",
    "    # what if you want to catch strings that might be in your list?\n",
    "    if type(number) == str: number = float(number)\n",
    "    if number > 10:\n",
    "        print(number, \"number greater than 10\")\n",
    "        greater_than_10.append(number)\n",
    "    # if a number is 10 or less, the program will read \n",
    "    #the elif statement and test if the number is 0 or greater\n",
    "    elif number >= 0:\n",
    "        print(number, \"in domain of 0 & 10\")\n",
    "        zero_to_10.append(number)\n",
    "    # the else catches any numbers that are negative since the previous conditional \n",
    "    # statements checked if the number was 0 or greater\n",
    "    else:\n",
    "        print(number, \"is negative\")\n",
    "        Negative_numbers.append(number)"
   ]
  },
  {
   "cell_type": "code",
   "execution_count": 36,
   "id": "9ccc110d",
   "metadata": {},
   "outputs": [
    {
     "data": {
      "text/plain": [
       "([14, 23, 643, 345, 213], [1, 1, 4, 7, 8, 8.5], [-1, -15, -60])"
      ]
     },
     "execution_count": 36,
     "metadata": {},
     "output_type": "execute_result"
    }
   ],
   "source": [
    "greater_than_10, zero_to_10, Negative_numbers"
   ]
  },
  {
   "cell_type": "code",
   "execution_count": 37,
   "id": "2b1184fb",
   "metadata": {},
   "outputs": [
    {
     "data": {
      "text/plain": [
       "([14, 643, 345, 213], [1, 4, 7, 8, 8.5], [-1, -60])"
      ]
     },
     "execution_count": 37,
     "metadata": {},
     "output_type": "execute_result"
    }
   ],
   "source": [
    "#use del list[i] to delete the ith element from list\n",
    "del greater_than_10[1]\n",
    "del zero_to_10[1]\n",
    "del Negative_numbers[1]\n",
    "greater_than_10, zero_to_10, Negative_numbers"
   ]
  },
  {
   "cell_type": "code",
   "execution_count": 38,
   "id": "e83f0ceb",
   "metadata": {},
   "outputs": [
    {
     "data": {
      "text/plain": [
       "([14, 643, 345], [1, 4, 7, 8], [-1])"
      ]
     },
     "execution_count": 38,
     "metadata": {},
     "output_type": "execute_result"
    }
   ],
   "source": [
    "#use del list[i] to delete the ith element from list\n",
    "del greater_than_10[-1]\n",
    "del zero_to_10[-1]\n",
    "del Negative_numbers[-1]\n",
    "greater_than_10, zero_to_10, Negative_numbers"
   ]
  },
  {
   "cell_type": "code",
   "execution_count": 39,
   "id": "a6406a07",
   "metadata": {},
   "outputs": [
    {
     "data": {
      "text/plain": [
       "[643, 345]"
      ]
     },
     "execution_count": 39,
     "metadata": {},
     "output_type": "execute_result"
    }
   ],
   "source": [
    "greater_than_10.remove(14)\n",
    "greater_than_10"
   ]
  },
  {
   "cell_type": "code",
   "execution_count": 40,
   "id": "12d0e719",
   "metadata": {},
   "outputs": [],
   "source": [
    "## Use lst.pop()\n"
   ]
  },
  {
   "cell_type": "code",
   "execution_count": 41,
   "id": "edb0ddc8",
   "metadata": {},
   "outputs": [
    {
     "data": {
      "text/plain": [
       "([643], 345)"
      ]
     },
     "execution_count": 41,
     "metadata": {},
     "output_type": "execute_result"
    }
   ],
   "source": [
    "last_val_in_list = greater_than_10.pop()\n",
    "greater_than_10, last_val_in_list"
   ]
  },
  {
   "cell_type": "code",
   "execution_count": 42,
   "id": "6f9a8155",
   "metadata": {},
   "outputs": [],
   "source": [
    "## sorting lists\n"
   ]
  },
  {
   "cell_type": "code",
   "execution_count": 43,
   "id": "9c59388d",
   "metadata": {},
   "outputs": [
    {
     "data": {
      "text/plain": [
       "([4, 1, 2, 5, 543, 22], [1, 2, 4, 5, 22, 543], [4, 1, 2, 5, 543, 22])"
      ]
     },
     "execution_count": 43,
     "metadata": {},
     "output_type": "execute_result"
    }
   ],
   "source": [
    "num_list = [4,1,2,5,543,22]\n",
    "string_list = [\"A\",\"list\",\"of\",\"strings\",\"is\",\"in\",\"string_list\"]\n",
    "num_list, sorted(num_list), num_list"
   ]
  },
  {
   "cell_type": "code",
   "execution_count": 44,
   "id": "b945bba7",
   "metadata": {},
   "outputs": [
    {
     "data": {
      "text/plain": [
       "(['A', 'list', 'of', 'strings', 'is', 'in', 'string_list'],\n",
       " ['A', 'in', 'is', 'list', 'of', 'string_list', 'strings'])"
      ]
     },
     "execution_count": 44,
     "metadata": {},
     "output_type": "execute_result"
    }
   ],
   "source": [
    "string_list, sorted(string_list)"
   ]
  },
  {
   "cell_type": "code",
   "execution_count": 45,
   "id": "b1b52a6d",
   "metadata": {},
   "outputs": [
    {
     "data": {
      "text/plain": [
       "[1, 2, 4, 5, 22, 543]"
      ]
     },
     "execution_count": 45,
     "metadata": {},
     "output_type": "execute_result"
    }
   ],
   "source": [
    "# lst.sort() will sort the original list object, but sorted(lst) will sort a copy of lst\n",
    "num_list.sort()\n",
    "num_list"
   ]
  },
  {
   "cell_type": "code",
   "execution_count": 46,
   "id": "5b6aec75",
   "metadata": {},
   "outputs": [
    {
     "ename": "TypeError",
     "evalue": "'<' not supported between instances of 'str' and 'int'",
     "output_type": "error",
     "traceback": [
      "\u001b[1;31m---------------------------------------------------------------------------\u001b[0m",
      "\u001b[1;31mTypeError\u001b[0m                                 Traceback (most recent call last)",
      "\u001b[1;32m~\\AppData\\Local\\Temp\\ipykernel_9840\\1809642106.py\u001b[0m in \u001b[0;36m<module>\u001b[1;34m\u001b[0m\n\u001b[0;32m      1\u001b[0m \u001b[1;31m# sorting mixed types will generate an error\u001b[0m\u001b[1;33m\u001b[0m\u001b[1;33m\u001b[0m\u001b[0m\n\u001b[0;32m      2\u001b[0m \u001b[1;31m# cannot compare strings and numerical values\u001b[0m\u001b[1;33m\u001b[0m\u001b[1;33m\u001b[0m\u001b[0m\n\u001b[1;32m----> 3\u001b[1;33m \u001b[0msorted\u001b[0m\u001b[1;33m(\u001b[0m\u001b[0mnum_list\u001b[0m \u001b[1;33m+\u001b[0m \u001b[0mstring_list\u001b[0m\u001b[1;33m)\u001b[0m\u001b[1;33m\u001b[0m\u001b[1;33m\u001b[0m\u001b[0m\n\u001b[0m",
      "\u001b[1;31mTypeError\u001b[0m: '<' not supported between instances of 'str' and 'int'"
     ]
    }
   ],
   "source": [
    "# sorting mixed types will generate an error\n",
    "# cannot compare strings and numerical values\n",
    "sorted(num_list + string_list)"
   ]
  },
  {
   "cell_type": "markdown",
   "id": "44fd9ec9",
   "metadata": {},
   "source": [
    "## List Slices"
   ]
  },
  {
   "cell_type": "code",
   "execution_count": null,
   "id": "353101f5",
   "metadata": {},
   "outputs": [],
   "source": [
    "# a slice of a list take a subset of values from a list\n",
    "lst = [1,2,3,4,5,6,6,7]\n",
    "#compare full list to sliced list\n",
    "lst, lst[2:5]"
   ]
  },
  {
   "cell_type": "code",
   "execution_count": null,
   "id": "6c6a12f2",
   "metadata": {},
   "outputs": [],
   "source": [
    "# count through the index by twos\n",
    "# explicit start and end index values\n",
    "lst, lst[0:-1:2]"
   ]
  },
  {
   "cell_type": "code",
   "execution_count": null,
   "id": "862f1506",
   "metadata": {},
   "outputs": [],
   "source": [
    "# implicit start and end index values\n",
    "lst, lst[::2]"
   ]
  },
  {
   "cell_type": "markdown",
   "id": "e0194e56",
   "metadata": {},
   "source": [
    "## Lists and Generator Functions"
   ]
  },
  {
   "cell_type": "code",
   "execution_count": 48,
   "id": "9301b58e",
   "metadata": {},
   "outputs": [
    {
     "data": {
      "text/plain": [
       "<generator object <genexpr> at 0x0000023E4FD3C7B0>"
      ]
     },
     "execution_count": 48,
     "metadata": {},
     "output_type": "execute_result"
    }
   ],
   "source": [
    "generator = (i for i in range(20))\n",
    "generator\n"
   ]
  },
  {
   "cell_type": "code",
   "execution_count": 49,
   "id": "6f9fff0a",
   "metadata": {},
   "outputs": [
    {
     "data": {
      "text/plain": [
       "[0, 1, 2, 3, 4, 5, 6, 7, 8, 9, 10, 11, 12, 13, 14, 15, 16, 17, 18, 19]"
      ]
     },
     "execution_count": 49,
     "metadata": {},
     "output_type": "execute_result"
    }
   ],
   "source": [
    "variable = list(generator)\n",
    "variable"
   ]
  },
  {
   "cell_type": "code",
   "execution_count": 52,
   "id": "c7551cdb",
   "metadata": {},
   "outputs": [
    {
     "data": {
      "text/plain": [
       "[0, 2, 4, 6, 8, 10, 12, 14, 16, 18, 20, 22, 24, 26, 28, 30, 32, 34, 36, 38]"
      ]
     },
     "execution_count": 52,
     "metadata": {},
     "output_type": "execute_result"
    }
   ],
   "source": [
    "list2 = [2 * i for i in range(20)]\n",
    "list2"
   ]
  },
  {
   "cell_type": "code",
   "execution_count": null,
   "id": "d8ae462e",
   "metadata": {},
   "outputs": [],
   "source": [
    "# be careful not to save over the list function\n"
   ]
  }
 ],
 "metadata": {
  "kernelspec": {
   "display_name": "Python 3 (ipykernel)",
   "language": "python",
   "name": "python3"
  },
  "language_info": {
   "codemirror_mode": {
    "name": "ipython",
    "version": 3
   },
   "file_extension": ".py",
   "mimetype": "text/x-python",
   "name": "python",
   "nbconvert_exporter": "python",
   "pygments_lexer": "ipython3",
   "version": "3.9.13"
  }
 },
 "nbformat": 4,
 "nbformat_minor": 5
}
