{
 "cells": [
  {
   "cell_type": "markdown",
   "id": "f65b345c",
   "metadata": {},
   "source": [
    "# financial statements testing grounds\n"
   ]
  },
  {
   "cell_type": "code",
   "execution_count": 1,
   "id": "292cb995",
   "metadata": {},
   "outputs": [],
   "source": [
    "import yfinance as yf\n",
    "import pandas as pd"
   ]
  },
  {
   "cell_type": "code",
   "execution_count": 2,
   "id": "b6785d41",
   "metadata": {},
   "outputs": [
    {
     "name": "stdout",
     "output_type": "stream",
     "text": [
      "Error: No EARNINGS data found for ENPH\n",
      "Error retrieving EARNINGS for ENPH\n",
      "Error: No EARNINGS data found for IBM\n",
      "Error retrieving EARNINGS for IBM\n"
     ]
    }
   ],
   "source": [
    "import requests\n",
    "import time\n",
    "\n",
    "\n",
    "api_key = \"TULH49F5XQMU8MQ5\"\n",
    "base_url = \"https://www.alphavantage.co/query\"\n",
    "\n",
    "def get_fin_stmt(symbol, function):\n",
    "    url = base_url + \"?function=\" + function + \"&symbol=\" + symbol + \"&apikey=\" + api_key\n",
    "    response = requests.get(url)\n",
    "    time.sleep(16)\n",
    "    if response.status_code != 200:\n",
    "        print(\"Error, cannot retrieve\" + function + \"for \" + symbol)\n",
    "        return None\n",
    "    data = response.json()\n",
    "    if \"annualReports\" not in data:\n",
    "        print(\"Error: No \" + function + \" data found for \" + symbol)\n",
    "        return None\n",
    "#     print(data)\n",
    "    statement_data = data[\"annualReports\"]\n",
    "    return_dct = {}\n",
    "    \n",
    "    return statement_data\n",
    "statement_dct = {}\n",
    "\n",
    "\n",
    "# retrieving data using above function in compressed format\n",
    "statements = {}\n",
    "stocks = [\"ENPH\", \"IBM\"]\n",
    "\n",
    "statement_types =  [\"INCOME_STATEMENT\", \"BALANCE_SHEET\", \"CASH_FLOW\",\"EARNINGS\"]\n",
    "for stock in stocks:\n",
    "    statements[stock] = {}\n",
    "    for statement_type in statement_types:\n",
    "        statement_key = statement_type.split(\"_\")[0]\n",
    "        statements[stock][statement_key] = {}\n",
    "        try:\n",
    "            fin_statement = get_fin_stmt(stock, statement_type)\n",
    "            for annual_data in fin_statement:\n",
    "                date = annual_data[\"fiscalDateEnding\"]\n",
    "\n",
    "                statements[stock][statement_key][date] = annual_data\n",
    "        except:\n",
    "            print(\"Error retrieving \" + statement_type + \" for \" + stock)\n"
   ]
  },
  {
   "cell_type": "code",
   "execution_count": 14,
   "id": "32322c5c",
   "metadata": {
    "scrolled": true
   },
   "outputs": [
    {
     "data": {
      "text/html": [
       "<div>\n",
       "<style scoped>\n",
       "    .dataframe tbody tr th:only-of-type {\n",
       "        vertical-align: middle;\n",
       "    }\n",
       "\n",
       "    .dataframe tbody tr th {\n",
       "        vertical-align: top;\n",
       "    }\n",
       "\n",
       "    .dataframe thead th {\n",
       "        text-align: right;\n",
       "    }\n",
       "</style>\n",
       "<table border=\"1\" class=\"dataframe\">\n",
       "  <thead>\n",
       "    <tr style=\"text-align: right;\">\n",
       "      <th></th>\n",
       "      <th>fiscalDateEnding</th>\n",
       "      <th>reportedCurrency</th>\n",
       "      <th>grossProfit</th>\n",
       "      <th>totalRevenue</th>\n",
       "      <th>costOfRevenue</th>\n",
       "      <th>costofGoodsAndServicesSold</th>\n",
       "      <th>operatingIncome</th>\n",
       "      <th>sellingGeneralAndAdministrative</th>\n",
       "      <th>researchAndDevelopment</th>\n",
       "      <th>operatingExpenses</th>\n",
       "      <th>...</th>\n",
       "      <th>depreciation</th>\n",
       "      <th>depreciationAndAmortization</th>\n",
       "      <th>incomeBeforeTax</th>\n",
       "      <th>incomeTaxExpense</th>\n",
       "      <th>interestAndDebtExpense</th>\n",
       "      <th>netIncomeFromContinuingOperations</th>\n",
       "      <th>comprehensiveIncomeNetOfTax</th>\n",
       "      <th>ebit</th>\n",
       "      <th>ebitda</th>\n",
       "      <th>netIncome</th>\n",
       "    </tr>\n",
       "  </thead>\n",
       "  <tbody>\n",
       "    <tr>\n",
       "      <th>2022-12-31</th>\n",
       "      <td>2022-12-31</td>\n",
       "      <td>USD</td>\n",
       "      <td>974595000</td>\n",
       "      <td>2330853000</td>\n",
       "      <td>1356258000</td>\n",
       "      <td>1356258000</td>\n",
       "      <td>448261000</td>\n",
       "      <td>355104000</td>\n",
       "      <td>168846000</td>\n",
       "      <td>526334000</td>\n",
       "      <td>...</td>\n",
       "      <td>27700000</td>\n",
       "      <td>24696000</td>\n",
       "      <td>452048000</td>\n",
       "      <td>54686000</td>\n",
       "      <td>9438000</td>\n",
       "      <td>397362000</td>\n",
       "      <td>388500000</td>\n",
       "      <td>461486000</td>\n",
       "      <td>486182000</td>\n",
       "      <td>397362000</td>\n",
       "    </tr>\n",
       "    <tr>\n",
       "      <th>2021-12-31</th>\n",
       "      <td>2021-12-31</td>\n",
       "      <td>USD</td>\n",
       "      <td>554422000</td>\n",
       "      <td>1382049000</td>\n",
       "      <td>827627000</td>\n",
       "      <td>827627000</td>\n",
       "      <td>215832000</td>\n",
       "      <td>233064000</td>\n",
       "      <td>105526000</td>\n",
       "      <td>338590000</td>\n",
       "      <td>...</td>\n",
       "      <td>16700000</td>\n",
       "      <td>9500000</td>\n",
       "      <td>120928000</td>\n",
       "      <td>-24521000</td>\n",
       "      <td>101649000</td>\n",
       "      <td>145449000</td>\n",
       "      <td>142995000</td>\n",
       "      <td>166080000</td>\n",
       "      <td>175580000</td>\n",
       "      <td>145449000</td>\n",
       "    </tr>\n",
       "    <tr>\n",
       "      <th>2020-12-31</th>\n",
       "      <td>2020-12-31</td>\n",
       "      <td>USD</td>\n",
       "      <td>345981000</td>\n",
       "      <td>774425000</td>\n",
       "      <td>428444000</td>\n",
       "      <td>428444000</td>\n",
       "      <td>186439000</td>\n",
       "      <td>103621000</td>\n",
       "      <td>55921000</td>\n",
       "      <td>159542000</td>\n",
       "      <td>...</td>\n",
       "      <td>9700000</td>\n",
       "      <td>5092000</td>\n",
       "      <td>119410000</td>\n",
       "      <td>-14585000</td>\n",
       "      <td>21001000</td>\n",
       "      <td>133995000</td>\n",
       "      <td>135352000</td>\n",
       "      <td>140411000</td>\n",
       "      <td>145503000</td>\n",
       "      <td>133995000</td>\n",
       "    </tr>\n",
       "    <tr>\n",
       "      <th>2019-12-31</th>\n",
       "      <td>2019-12-31</td>\n",
       "      <td>USD</td>\n",
       "      <td>221245000</td>\n",
       "      <td>624333000</td>\n",
       "      <td>403088000</td>\n",
       "      <td>403088000</td>\n",
       "      <td>102729000</td>\n",
       "      <td>75536000</td>\n",
       "      <td>40381000</td>\n",
       "      <td>118516000</td>\n",
       "      <td>...</td>\n",
       "      <td>7300000</td>\n",
       "      <td>4727000</td>\n",
       "      <td>90114000</td>\n",
       "      <td>-71034000</td>\n",
       "      <td>17843000</td>\n",
       "      <td>161148000</td>\n",
       "      <td>159483000</td>\n",
       "      <td>99805000</td>\n",
       "      <td>104532000</td>\n",
       "      <td>161148000</td>\n",
       "    </tr>\n",
       "    <tr>\n",
       "      <th>2018-12-31</th>\n",
       "      <td>2018-12-31</td>\n",
       "      <td>USD</td>\n",
       "      <td>94445000</td>\n",
       "      <td>316159000</td>\n",
       "      <td>221714000</td>\n",
       "      <td>221714000</td>\n",
       "      <td>1596000</td>\n",
       "      <td>56133000</td>\n",
       "      <td>32587000</td>\n",
       "      <td>92849000</td>\n",
       "      <td>...</td>\n",
       "      <td>8300000</td>\n",
       "      <td>1400000</td>\n",
       "      <td>-10229000</td>\n",
       "      <td>1398000</td>\n",
       "      <td>9635000</td>\n",
       "      <td>-11627000</td>\n",
       "      <td>-10229000</td>\n",
       "      <td>464000</td>\n",
       "      <td>1864000</td>\n",
       "      <td>-11627000</td>\n",
       "    </tr>\n",
       "  </tbody>\n",
       "</table>\n",
       "<p>5 rows × 26 columns</p>\n",
       "</div>"
      ],
      "text/plain": [
       "           fiscalDateEnding reportedCurrency grossProfit totalRevenue  \\\n",
       "2022-12-31       2022-12-31              USD   974595000   2330853000   \n",
       "2021-12-31       2021-12-31              USD   554422000   1382049000   \n",
       "2020-12-31       2020-12-31              USD   345981000    774425000   \n",
       "2019-12-31       2019-12-31              USD   221245000    624333000   \n",
       "2018-12-31       2018-12-31              USD    94445000    316159000   \n",
       "\n",
       "           costOfRevenue costofGoodsAndServicesSold operatingIncome  \\\n",
       "2022-12-31    1356258000                 1356258000       448261000   \n",
       "2021-12-31     827627000                  827627000       215832000   \n",
       "2020-12-31     428444000                  428444000       186439000   \n",
       "2019-12-31     403088000                  403088000       102729000   \n",
       "2018-12-31     221714000                  221714000         1596000   \n",
       "\n",
       "           sellingGeneralAndAdministrative researchAndDevelopment  \\\n",
       "2022-12-31                       355104000              168846000   \n",
       "2021-12-31                       233064000              105526000   \n",
       "2020-12-31                       103621000               55921000   \n",
       "2019-12-31                        75536000               40381000   \n",
       "2018-12-31                        56133000               32587000   \n",
       "\n",
       "           operatingExpenses  ... depreciation depreciationAndAmortization  \\\n",
       "2022-12-31         526334000  ...     27700000                    24696000   \n",
       "2021-12-31         338590000  ...     16700000                     9500000   \n",
       "2020-12-31         159542000  ...      9700000                     5092000   \n",
       "2019-12-31         118516000  ...      7300000                     4727000   \n",
       "2018-12-31          92849000  ...      8300000                     1400000   \n",
       "\n",
       "           incomeBeforeTax incomeTaxExpense interestAndDebtExpense  \\\n",
       "2022-12-31       452048000         54686000                9438000   \n",
       "2021-12-31       120928000        -24521000              101649000   \n",
       "2020-12-31       119410000        -14585000               21001000   \n",
       "2019-12-31        90114000        -71034000               17843000   \n",
       "2018-12-31       -10229000          1398000                9635000   \n",
       "\n",
       "           netIncomeFromContinuingOperations comprehensiveIncomeNetOfTax  \\\n",
       "2022-12-31                         397362000                   388500000   \n",
       "2021-12-31                         145449000                   142995000   \n",
       "2020-12-31                         133995000                   135352000   \n",
       "2019-12-31                         161148000                   159483000   \n",
       "2018-12-31                         -11627000                   -10229000   \n",
       "\n",
       "                 ebit     ebitda  netIncome  \n",
       "2022-12-31  461486000  486182000  397362000  \n",
       "2021-12-31  166080000  175580000  145449000  \n",
       "2020-12-31  140411000  145503000  133995000  \n",
       "2019-12-31   99805000  104532000  161148000  \n",
       "2018-12-31     464000    1864000  -11627000  \n",
       "\n",
       "[5 rows x 26 columns]"
      ]
     },
     "execution_count": 14,
     "metadata": {},
     "output_type": "execute_result"
    }
   ],
   "source": [
    "plot_df = pd.DataFrame(statements[\"ENPH\"][\"INCOME\"]).T\n",
    "plot_df"
   ]
  },
  {
   "cell_type": "code",
   "execution_count": 4,
   "id": "816014e7",
   "metadata": {
    "scrolled": true
   },
   "outputs": [
    {
     "data": {
      "text/plain": [
       "Index(['fiscalDateEnding', 'reportedCurrency', 'totalAssets',\n",
       "       'totalCurrentAssets', 'cashAndCashEquivalentsAtCarryingValue',\n",
       "       'cashAndShortTermInvestments', 'inventory', 'currentNetReceivables',\n",
       "       'totalNonCurrentAssets', 'propertyPlantEquipment',\n",
       "       'accumulatedDepreciationAmortizationPPE', 'intangibleAssets',\n",
       "       'intangibleAssetsExcludingGoodwill', 'goodwill', 'investments',\n",
       "       'longTermInvestments', 'shortTermInvestments', 'otherCurrentAssets',\n",
       "       'otherNonCurrentAssets', 'totalLiabilities', 'totalCurrentLiabilities',\n",
       "       'currentAccountsPayable', 'deferredRevenue', 'currentDebt',\n",
       "       'shortTermDebt', 'totalNonCurrentLiabilities',\n",
       "       'capitalLeaseObligations', 'longTermDebt', 'currentLongTermDebt',\n",
       "       'longTermDebtNoncurrent', 'shortLongTermDebtTotal',\n",
       "       'otherCurrentLiabilities', 'otherNonCurrentLiabilities',\n",
       "       'totalShareholderEquity', 'treasuryStock', 'retainedEarnings',\n",
       "       'commonStock', 'commonStockSharesOutstanding'],\n",
       "      dtype='object')"
      ]
     },
     "execution_count": 4,
     "metadata": {},
     "output_type": "execute_result"
    }
   ],
   "source": [
    "plot_df.keys()"
   ]
  },
  {
   "cell_type": "code",
   "execution_count": 5,
   "id": "20220e7c",
   "metadata": {},
   "outputs": [],
   "source": [
    "def calc_ROIC(EBIT, Taxes, Debt, Equity, Cash_Equiv):\n",
    "    NOPAT = EBIT - Taxes\n",
    "    Invested_Capital = Debt + Equity - Cash_Equiv\n",
    "    ROIC = NOPAT / Invested_Capital\n",
    "    return ROIC\n",
    "    "
   ]
  },
  {
   "cell_type": "code",
   "execution_count": 6,
   "id": "cc1d4731",
   "metadata": {},
   "outputs": [
    {
     "data": {
      "text/plain": [
       "406800000"
      ]
     },
     "execution_count": 6,
     "metadata": {},
     "output_type": "execute_result"
    }
   ],
   "source": [
    "#calcula\n",
    "#calc_ROIC(statements[\"ENPH\"][\"INCOME\"][\"2022-12-31\"][\"ebit\"], )\n",
    "int(statements[\"ENPH\"][\"INCOME\"][\"2022-12-31\"][\"ebit\"]) - int(statements[\n",
    "    \"ENPH\"][\"INCOME\"][\"2022-12-31\"][\"incomeTaxExpense\"])"
   ]
  },
  {
   "cell_type": "code",
   "execution_count": 7,
   "id": "cc897222",
   "metadata": {},
   "outputs": [],
   "source": [
    "import datetime"
   ]
  },
  {
   "cell_type": "code",
   "execution_count": 8,
   "id": "a8663f7c",
   "metadata": {},
   "outputs": [],
   "source": [
    "#for date in statements[\"ENPH\"][\"BALANCE\"]:\n",
    "#    format = \"%Y-%m-%d\"\n",
    "    \n",
    "    \n",
    "#    print(statements[\"ENPH\"][\"BALANCE\"][date])"
   ]
  },
  {
   "cell_type": "code",
   "execution_count": null,
   "id": "6206e7e6",
   "metadata": {},
   "outputs": [],
   "source": []
  },
  {
   "cell_type": "code",
   "execution_count": 9,
   "id": "4f8e3380",
   "metadata": {},
   "outputs": [
    {
     "name": "stdout",
     "output_type": "stream",
     "text": [
      "ENPH 2022-12-31 136441000\n",
      "ENPH 2021-12-31 133894000\n",
      "ENPH 2020-12-31 128962000\n",
      "ENPH 2019-12-31 123109000\n",
      "ENPH 2018-12-31 107035000\n",
      "IBM 2022-12-31 906091977\n",
      "IBM 2021-12-31 898068600\n",
      "IBM 2020-12-31 892653424\n",
      "IBM 2019-12-31 887110455\n",
      "IBM 2018-12-31 892479411\n"
     ]
    }
   ],
   "source": [
    "for stock in statements:\n",
    "      for date in statements[stock][\"BALANCE\"]:\n",
    "        print(stock, date, statements[stock][\"BALANCE\"][date][\"commonStockSharesOutstanding\"])\n",
    "    "
   ]
  },
  {
   "cell_type": "code",
   "execution_count": 10,
   "id": "5b668bcd",
   "metadata": {},
   "outputs": [],
   "source": [
    "import matplotlib.pyplot as plt\n"
   ]
  },
  {
   "cell_type": "code",
   "execution_count": 11,
   "id": "677b5ee5",
   "metadata": {},
   "outputs": [],
   "source": [
    "# import os\n",
    "def plot_lines(df,\n",
    "              linewidth = 5,\n",
    "              figsize = (40,20),\n",
    "              secondary_y = None,\n",
    "              legend = True,\n",
    "              pp = None,\n",
    "              save_fig = False,\n",
    "              global_fontsize = 50):\n",
    "    # update global fontsizes\n",
    "    \n",
    "    \n",
    "    plt.rcParams.update({\"font.size\":global_fontsize})\n",
    "    fig, ax = plt.subplots(figsize = figsize)\n",
    "    df.dropna(axis = 0, how = \"all\").plot.line(\n",
    "        linewidth = linewidth,\n",
    "        ax = ax,\n",
    "        secondary_y = secondary_y,\n",
    "        legend = legend)\n",
    "    # remove label \"DATE\"\n",
    "    ax.set_xlabel(\"\")\n",
    "    # rotate x axis labels\n",
    "    ax.tick_params(axis = \"x\", rotation = 90)\n",
    "    # remove ticklines on x and y axis\n",
    "    ax.tick_params(length=0, which=\"both\")\n",
    "    # round axis tick values\n",
    "    # 1. access values\n",
    "    y_vals = ax.get_yticks()\n",
    "    ax.set_yticklabels([round(y,2) for y in y_vals])\n",
    "    \n",
    "    return fig, ax"
   ]
  },
  {
   "cell_type": "code",
   "execution_count": null,
   "id": "e0fbed58",
   "metadata": {},
   "outputs": [],
   "source": []
  },
  {
   "cell_type": "code",
   "execution_count": null,
   "id": "4cc01fca",
   "metadata": {},
   "outputs": [],
   "source": []
  },
  {
   "cell_type": "code",
   "execution_count": 12,
   "id": "ab3ac033",
   "metadata": {},
   "outputs": [],
   "source": [
    "#data_dct = {}\n",
    "#for json_dct in ENPH_IS:\n",
    "#     date = json_dct[\"fiscalDateEnding\"]\n",
    "#    data_dct[date] = json_dct\n",
    "#\n",
    "#pd.DataFrame(data_dct).T"
   ]
  },
  {
   "cell_type": "code",
   "execution_count": null,
   "id": "c6c7cc1a",
   "metadata": {},
   "outputs": [],
   "source": []
  },
  {
   "cell_type": "code",
   "execution_count": null,
   "id": "9849b6b6",
   "metadata": {},
   "outputs": [],
   "source": []
  },
  {
   "cell_type": "code",
   "execution_count": null,
   "id": "4d0a1406",
   "metadata": {},
   "outputs": [],
   "source": []
  },
  {
   "cell_type": "code",
   "execution_count": null,
   "id": "fe17ea11",
   "metadata": {},
   "outputs": [],
   "source": []
  },
  {
   "cell_type": "code",
   "execution_count": null,
   "id": "75ffaa97",
   "metadata": {
    "scrolled": true
   },
   "outputs": [],
   "source": []
  },
  {
   "cell_type": "code",
   "execution_count": 13,
   "id": "de2f11aa",
   "metadata": {
    "scrolled": false
   },
   "outputs": [
    {
     "ename": "NameError",
     "evalue": "name 'data' is not defined",
     "output_type": "error",
     "traceback": [
      "\u001b[1;31m---------------------------------------------------------------------------\u001b[0m",
      "\u001b[1;31mNameError\u001b[0m                                 Traceback (most recent call last)",
      "\u001b[1;32m~\\AppData\\Local\\Temp\\ipykernel_11036\\391604064.py\u001b[0m in \u001b[0;36m<module>\u001b[1;34m\u001b[0m\n\u001b[1;32m----> 1\u001b[1;33m \u001b[0mdata\u001b[0m\u001b[1;33m\u001b[0m\u001b[1;33m\u001b[0m\u001b[0m\n\u001b[0m",
      "\u001b[1;31mNameError\u001b[0m: name 'data' is not defined"
     ]
    }
   ],
   "source": [
    "data"
   ]
  },
  {
   "cell_type": "code",
   "execution_count": null,
   "id": "d5ff89ba",
   "metadata": {
    "scrolled": true
   },
   "outputs": [],
   "source": [
    "type(data)"
   ]
  },
  {
   "cell_type": "markdown",
   "id": "e09104e9",
   "metadata": {},
   "source": [
    "import requests\n",
    "\n",
    "# API key for Alpha Vantage\n",
    "api_key = 'YOUR_API_KEY'\n",
    "\n",
    "# Base URL for Alpha Vantage API\n",
    "base_url = 'https://www.alphavantage.co/query'\n",
    "\n",
    "# Ticker symbol for AAPL\n",
    "symbol = 'AAPL'\n",
    "\n",
    "# Initialize the data dictionary\n",
    "data = {}\n",
    "\n",
    "# Function to retrieve financial statement data for a given symbol and statement type\n",
    "def get_financial_statement(symbol, statement_type):\n",
    "    # Build the URL for the API call\n",
    "    url = base_url + '?function=' + statement_type + '&symbol=' + symbol + '&apikey=' + api_key\n",
    "\n",
    "    # Make the API call\n",
    "    response = requests.get(url)\n",
    "\n",
    "    # Check if the API call was successful\n",
    "    if response.status_code != 200:\n",
    "        print(\"Error: Unable to retrieve \" + statement_type + \" for \" + symbol)\n",
    "        return None\n",
    "\n",
    "    # Extract the financial statement data from the API response\n",
    "    data = response.json()\n",
    "    statement_data = data['annualReports']\n",
    "\n",
    "    return statement_data\n",
    "\n",
    "# Retrieve and store the income statement for AAPL\n",
    "income_statement = get_financial_statement(symbol, 'INCOME_STATEMENT')\n",
    "data[symbol] = {'Income Statement': income_statement}\n",
    "\n",
    "# Retrieve and store the balance sheet for AAPL\n",
    "balance_sheet = get_financial_statement(symbol, 'BALANCE_SHEET')\n",
    "data[symbol]['Balance Sheet'] = balance_sheet\n",
    "\n",
    "# Retrieve and store the cash flow statement for AAPL\n",
    "cash_flow = get_financial_statement(symbol, 'CASH_FLOW')\n",
    "data[symbol]['Cash Flow'] = cash_flow\n",
    "\n",
    "# Print the retrieved data\n",
    "print(data[symbol]['Income Statement'])\n",
    "print(data[symbol]['Balance Sheet'])\n",
    "print(data[symbol]['Cash Flow'])\n"
   ]
  }
 ],
 "metadata": {
  "kernelspec": {
   "display_name": "Python 3 (ipykernel)",
   "language": "python",
   "name": "python3"
  },
  "language_info": {
   "codemirror_mode": {
    "name": "ipython",
    "version": 3
   },
   "file_extension": ".py",
   "mimetype": "text/x-python",
   "name": "python",
   "nbconvert_exporter": "python",
   "pygments_lexer": "ipython3",
   "version": "3.9.13"
  }
 },
 "nbformat": 4,
 "nbformat_minor": 5
}
