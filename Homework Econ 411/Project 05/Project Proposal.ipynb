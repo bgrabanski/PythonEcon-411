{
 "cells": [
  {
   "cell_type": "markdown",
   "id": "19e9c734",
   "metadata": {},
   "source": [
    "## My proposal for a project is a stock dashboard for Bison Fund\n",
    "\n",
    "#### I want to create a dashboard that pulls data from our models that we build in class, display it in an \n",
    "#### Easy to access format, and allows us to make timely decisions based on updated stock data.\n",
    "#### This hopefully will allow us to see quickly when a stock has fallen both below our hurdle rate\n",
    "#### But also allow us to see when things are far above intrinsic value or below intrinsic value\n",
    "#### So we can make better purchase and sell decisions. \n",
    "\n",
    "#### In this project I will use data from one of the available stock information websites,\n",
    "#### This may end up being Yahoo finance, pulling from 10ks, or another informational website\n",
    "#### That has the formatting I need. \n",
    "\n",
    "#### I will also pull data from our excel spreadsheets. I am unsure if this will be a refresh button\n",
    "#### Or if I can enable macros to allow data to be pulled live from them. Although live viewing\n",
    "#### Will not be an issue for our stock models.\n",
    "\n",
    "#### For James: There wasn't a given format, and I hope this is satisfactory for the assignment. \n",
    "#### Let me know if anything is out of line and I shall make corrections. Thanks!"
   ]
  }
 ],
 "metadata": {
  "kernelspec": {
   "display_name": "Python 3 (ipykernel)",
   "language": "python",
   "name": "python3"
  },
  "language_info": {
   "codemirror_mode": {
    "name": "ipython",
    "version": 3
   },
   "file_extension": ".py",
   "mimetype": "text/x-python",
   "name": "python",
   "nbconvert_exporter": "python",
   "pygments_lexer": "ipython3",
   "version": "3.9.13"
  }
 },
 "nbformat": 4,
 "nbformat_minor": 5
}
