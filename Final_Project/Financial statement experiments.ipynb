{
 "cells": [
  {
   "cell_type": "markdown",
   "id": "f65b345c",
   "metadata": {},
   "source": [
    "# financial statements testing grounds\n"
   ]
  },
  {
   "cell_type": "code",
   "execution_count": 1,
   "id": "292cb995",
   "metadata": {},
   "outputs": [],
   "source": [
    "import yfinance as yf\n",
    "import pandas as pd"
   ]
  },
  {
   "cell_type": "code",
   "execution_count": 2,
   "id": "b6785d41",
   "metadata": {},
   "outputs": [
    {
     "name": "stdout",
     "output_type": "stream",
     "text": [
      "Error: No EARNINGS data found for ENPH\n",
      "Error retrieving EARNINGS for ENPH\n",
      "Error: No EARNINGS data found for IBM\n",
      "Error retrieving EARNINGS for IBM\n",
      "Error: No EARNINGS data found for MBUU\n",
      "Error retrieving EARNINGS for MBUU\n",
      "Error: No EARNINGS data found for MANH\n",
      "Error retrieving EARNINGS for MANH\n",
      "Error: No EARNINGS data found for TREX\n",
      "Error retrieving EARNINGS for TREX\n",
      "Error: No EARNINGS data found for LSCC\n",
      "Error retrieving EARNINGS for LSCC\n"
     ]
    }
   ],
   "source": [
    "import requests\n",
    "import time\n",
    "\n",
    "\n",
    "api_key = \"TULH49F5XQMU8MQ5\"\n",
    "base_url = \"https://www.alphavantage.co/query\"\n",
    "\n",
    "def get_fin_stmt(symbol, function):\n",
    "    url = base_url + \"?function=\" + function + \"&symbol=\" + symbol + \"&apikey=\" + api_key\n",
    "    response = requests.get(url)\n",
    "    time.sleep(16)\n",
    "    if response.status_code != 200:\n",
    "        print(\"Error, cannot retrieve\" + function + \"for \" + symbol)\n",
    "        return None\n",
    "    data = response.json()\n",
    "    if \"annualReports\" not in data:\n",
    "        print(\"Error: No \" + function + \" data found for \" + symbol)\n",
    "        return None\n",
    "#     print(data)\n",
    "    statement_data = data[\"annualReports\"]\n",
    "    return_dct = {}\n",
    "    \n",
    "    return statement_data\n",
    "statement_dct = {}\n",
    "\n",
    "\n",
    "# retrieving data using above function in compressed format\n",
    "statements = {}\n",
    "stocks = [\"ENPH\", \"IBM\", \"MBUU\", \"MANH\", \"TREX\", \"LSCC\"]\n",
    "\n",
    "statement_types =  [\"INCOME_STATEMENT\", \"BALANCE_SHEET\", \"CASH_FLOW\",\"EARNINGS\"]\n",
    "for stock in stocks:\n",
    "    statements[stock] = {}\n",
    "    for statement_type in statement_types:\n",
    "        statement_key = statement_type.split(\"_\")[0]\n",
    "        statements[stock][statement_key] = {}\n",
    "        try:\n",
    "            fin_statement = get_fin_stmt(stock, statement_type)\n",
    "            for annual_data in fin_statement:\n",
    "                date = annual_data[\"fiscalDateEnding\"]\n",
    "\n",
    "                statements[stock][statement_key][date] = annual_data\n",
    "        except:\n",
    "            print(\"Error retrieving \" + statement_type + \" for \" + stock)\n"
   ]
  },
  {
   "cell_type": "code",
   "execution_count": 3,
   "id": "32322c5c",
   "metadata": {
    "scrolled": true
   },
   "outputs": [
    {
     "data": {
      "text/html": [
       "<div>\n",
       "<style scoped>\n",
       "    .dataframe tbody tr th:only-of-type {\n",
       "        vertical-align: middle;\n",
       "    }\n",
       "\n",
       "    .dataframe tbody tr th {\n",
       "        vertical-align: top;\n",
       "    }\n",
       "\n",
       "    .dataframe thead th {\n",
       "        text-align: right;\n",
       "    }\n",
       "</style>\n",
       "<table border=\"1\" class=\"dataframe\">\n",
       "  <thead>\n",
       "    <tr style=\"text-align: right;\">\n",
       "      <th></th>\n",
       "      <th>fiscalDateEnding</th>\n",
       "      <th>reportedCurrency</th>\n",
       "      <th>grossProfit</th>\n",
       "      <th>totalRevenue</th>\n",
       "      <th>costOfRevenue</th>\n",
       "      <th>costofGoodsAndServicesSold</th>\n",
       "      <th>operatingIncome</th>\n",
       "      <th>sellingGeneralAndAdministrative</th>\n",
       "      <th>researchAndDevelopment</th>\n",
       "      <th>operatingExpenses</th>\n",
       "      <th>...</th>\n",
       "      <th>depreciation</th>\n",
       "      <th>depreciationAndAmortization</th>\n",
       "      <th>incomeBeforeTax</th>\n",
       "      <th>incomeTaxExpense</th>\n",
       "      <th>interestAndDebtExpense</th>\n",
       "      <th>netIncomeFromContinuingOperations</th>\n",
       "      <th>comprehensiveIncomeNetOfTax</th>\n",
       "      <th>ebit</th>\n",
       "      <th>ebitda</th>\n",
       "      <th>netIncome</th>\n",
       "    </tr>\n",
       "  </thead>\n",
       "  <tbody>\n",
       "    <tr>\n",
       "      <th>2022-12-31</th>\n",
       "      <td>2022-12-31</td>\n",
       "      <td>USD</td>\n",
       "      <td>974595000</td>\n",
       "      <td>2330853000</td>\n",
       "      <td>1356258000</td>\n",
       "      <td>1356258000</td>\n",
       "      <td>448261000</td>\n",
       "      <td>355104000</td>\n",
       "      <td>168846000</td>\n",
       "      <td>526334000</td>\n",
       "      <td>...</td>\n",
       "      <td>27700000</td>\n",
       "      <td>24696000</td>\n",
       "      <td>452048000</td>\n",
       "      <td>54686000</td>\n",
       "      <td>9438000</td>\n",
       "      <td>397362000</td>\n",
       "      <td>388500000</td>\n",
       "      <td>461486000</td>\n",
       "      <td>486182000</td>\n",
       "      <td>397362000</td>\n",
       "    </tr>\n",
       "    <tr>\n",
       "      <th>2021-12-31</th>\n",
       "      <td>2021-12-31</td>\n",
       "      <td>USD</td>\n",
       "      <td>554422000</td>\n",
       "      <td>1382049000</td>\n",
       "      <td>827627000</td>\n",
       "      <td>827627000</td>\n",
       "      <td>215832000</td>\n",
       "      <td>233064000</td>\n",
       "      <td>105526000</td>\n",
       "      <td>338590000</td>\n",
       "      <td>...</td>\n",
       "      <td>16700000</td>\n",
       "      <td>9500000</td>\n",
       "      <td>120928000</td>\n",
       "      <td>-24521000</td>\n",
       "      <td>101649000</td>\n",
       "      <td>145449000</td>\n",
       "      <td>142995000</td>\n",
       "      <td>166080000</td>\n",
       "      <td>175580000</td>\n",
       "      <td>145449000</td>\n",
       "    </tr>\n",
       "    <tr>\n",
       "      <th>2020-12-31</th>\n",
       "      <td>2020-12-31</td>\n",
       "      <td>USD</td>\n",
       "      <td>345981000</td>\n",
       "      <td>774425000</td>\n",
       "      <td>428444000</td>\n",
       "      <td>428444000</td>\n",
       "      <td>186439000</td>\n",
       "      <td>103621000</td>\n",
       "      <td>55921000</td>\n",
       "      <td>159542000</td>\n",
       "      <td>...</td>\n",
       "      <td>9700000</td>\n",
       "      <td>5092000</td>\n",
       "      <td>119410000</td>\n",
       "      <td>-14585000</td>\n",
       "      <td>21001000</td>\n",
       "      <td>133995000</td>\n",
       "      <td>135352000</td>\n",
       "      <td>140411000</td>\n",
       "      <td>145503000</td>\n",
       "      <td>133995000</td>\n",
       "    </tr>\n",
       "    <tr>\n",
       "      <th>2019-12-31</th>\n",
       "      <td>2019-12-31</td>\n",
       "      <td>USD</td>\n",
       "      <td>221245000</td>\n",
       "      <td>624333000</td>\n",
       "      <td>403088000</td>\n",
       "      <td>403088000</td>\n",
       "      <td>102729000</td>\n",
       "      <td>75536000</td>\n",
       "      <td>40381000</td>\n",
       "      <td>118516000</td>\n",
       "      <td>...</td>\n",
       "      <td>7300000</td>\n",
       "      <td>4727000</td>\n",
       "      <td>90114000</td>\n",
       "      <td>-71034000</td>\n",
       "      <td>17843000</td>\n",
       "      <td>161148000</td>\n",
       "      <td>159483000</td>\n",
       "      <td>99805000</td>\n",
       "      <td>104532000</td>\n",
       "      <td>161148000</td>\n",
       "    </tr>\n",
       "    <tr>\n",
       "      <th>2018-12-31</th>\n",
       "      <td>2018-12-31</td>\n",
       "      <td>USD</td>\n",
       "      <td>94445000</td>\n",
       "      <td>316159000</td>\n",
       "      <td>221714000</td>\n",
       "      <td>221714000</td>\n",
       "      <td>1596000</td>\n",
       "      <td>56133000</td>\n",
       "      <td>32587000</td>\n",
       "      <td>92849000</td>\n",
       "      <td>...</td>\n",
       "      <td>8300000</td>\n",
       "      <td>1400000</td>\n",
       "      <td>-10229000</td>\n",
       "      <td>1398000</td>\n",
       "      <td>9635000</td>\n",
       "      <td>-11627000</td>\n",
       "      <td>-10229000</td>\n",
       "      <td>464000</td>\n",
       "      <td>1864000</td>\n",
       "      <td>-11627000</td>\n",
       "    </tr>\n",
       "  </tbody>\n",
       "</table>\n",
       "<p>5 rows × 26 columns</p>\n",
       "</div>"
      ],
      "text/plain": [
       "           fiscalDateEnding reportedCurrency grossProfit totalRevenue  \\\n",
       "2022-12-31       2022-12-31              USD   974595000   2330853000   \n",
       "2021-12-31       2021-12-31              USD   554422000   1382049000   \n",
       "2020-12-31       2020-12-31              USD   345981000    774425000   \n",
       "2019-12-31       2019-12-31              USD   221245000    624333000   \n",
       "2018-12-31       2018-12-31              USD    94445000    316159000   \n",
       "\n",
       "           costOfRevenue costofGoodsAndServicesSold operatingIncome  \\\n",
       "2022-12-31    1356258000                 1356258000       448261000   \n",
       "2021-12-31     827627000                  827627000       215832000   \n",
       "2020-12-31     428444000                  428444000       186439000   \n",
       "2019-12-31     403088000                  403088000       102729000   \n",
       "2018-12-31     221714000                  221714000         1596000   \n",
       "\n",
       "           sellingGeneralAndAdministrative researchAndDevelopment  \\\n",
       "2022-12-31                       355104000              168846000   \n",
       "2021-12-31                       233064000              105526000   \n",
       "2020-12-31                       103621000               55921000   \n",
       "2019-12-31                        75536000               40381000   \n",
       "2018-12-31                        56133000               32587000   \n",
       "\n",
       "           operatingExpenses  ... depreciation depreciationAndAmortization  \\\n",
       "2022-12-31         526334000  ...     27700000                    24696000   \n",
       "2021-12-31         338590000  ...     16700000                     9500000   \n",
       "2020-12-31         159542000  ...      9700000                     5092000   \n",
       "2019-12-31         118516000  ...      7300000                     4727000   \n",
       "2018-12-31          92849000  ...      8300000                     1400000   \n",
       "\n",
       "           incomeBeforeTax incomeTaxExpense interestAndDebtExpense  \\\n",
       "2022-12-31       452048000         54686000                9438000   \n",
       "2021-12-31       120928000        -24521000              101649000   \n",
       "2020-12-31       119410000        -14585000               21001000   \n",
       "2019-12-31        90114000        -71034000               17843000   \n",
       "2018-12-31       -10229000          1398000                9635000   \n",
       "\n",
       "           netIncomeFromContinuingOperations comprehensiveIncomeNetOfTax  \\\n",
       "2022-12-31                         397362000                   388500000   \n",
       "2021-12-31                         145449000                   142995000   \n",
       "2020-12-31                         133995000                   135352000   \n",
       "2019-12-31                         161148000                   159483000   \n",
       "2018-12-31                         -11627000                   -10229000   \n",
       "\n",
       "                 ebit     ebitda  netIncome  \n",
       "2022-12-31  461486000  486182000  397362000  \n",
       "2021-12-31  166080000  175580000  145449000  \n",
       "2020-12-31  140411000  145503000  133995000  \n",
       "2019-12-31   99805000  104532000  161148000  \n",
       "2018-12-31     464000    1864000  -11627000  \n",
       "\n",
       "[5 rows x 26 columns]"
      ]
     },
     "execution_count": 3,
     "metadata": {},
     "output_type": "execute_result"
    }
   ],
   "source": [
    "plot_df = pd.DataFrame(statements[\"ENPH\"][\"INCOME\"]).T\n",
    "plot_df"
   ]
  },
  {
   "cell_type": "code",
   "execution_count": 4,
   "id": "816014e7",
   "metadata": {
    "scrolled": true
   },
   "outputs": [
    {
     "data": {
      "text/plain": [
       "Index(['fiscalDateEnding', 'reportedCurrency', 'grossProfit', 'totalRevenue',\n",
       "       'costOfRevenue', 'costofGoodsAndServicesSold', 'operatingIncome',\n",
       "       'sellingGeneralAndAdministrative', 'researchAndDevelopment',\n",
       "       'operatingExpenses', 'investmentIncomeNet', 'netInterestIncome',\n",
       "       'interestIncome', 'interestExpense', 'nonInterestIncome',\n",
       "       'otherNonOperatingIncome', 'depreciation',\n",
       "       'depreciationAndAmortization', 'incomeBeforeTax', 'incomeTaxExpense',\n",
       "       'interestAndDebtExpense', 'netIncomeFromContinuingOperations',\n",
       "       'comprehensiveIncomeNetOfTax', 'ebit', 'ebitda', 'netIncome'],\n",
       "      dtype='object')"
      ]
     },
     "execution_count": 4,
     "metadata": {},
     "output_type": "execute_result"
    }
   ],
   "source": [
    "plot_df.keys()"
   ]
  },
  {
   "cell_type": "code",
   "execution_count": 5,
   "id": "20220e7c",
   "metadata": {},
   "outputs": [],
   "source": [
    "def calc_ROIC(EBIT, Taxes, Dividends, Debt, Equity, Cash_Equiv):\n",
    "    try:\n",
    "        NOPAT = (int(EBIT) - int(Taxes)) - int(Dividends)\n",
    "        Invested_Capital = int(Debt) + int(Equity) - int(Cash_Equiv)\n",
    "        ROIC = round(NOPAT / Invested_Capital, 2)\n",
    "    except:\n",
    "        NOPAT = (int(EBIT) - int(Taxes))\n",
    "        Invested_Capital = int(Debt) + int(Equity) - int(Cash_Equiv)\n",
    "        ROIC = round(NOPAT / Invested_Capital, 2)\n",
    "    return ROIC\n",
    "    "
   ]
  },
  {
   "cell_type": "code",
   "execution_count": 6,
   "id": "eb006a11",
   "metadata": {},
   "outputs": [],
   "source": [
    "def calc_EPS(Net_Income, Dividends, Shares):\n",
    "    try:\n",
    "        EPS = round((int(Net_Income) - int(Dividends)) / int(Shares),2)\n",
    "    except:\n",
    "        EPS = round((int(Net_Income)) / int(Shares),2)\n",
    "    return EPS"
   ]
  },
  {
   "cell_type": "code",
   "execution_count": 7,
   "id": "7edc08e0",
   "metadata": {},
   "outputs": [],
   "source": [
    "# Core of valuation, subject to change suddenly over new valuation \n",
    "# methodologies. Hoping to have projected EPS based on growth rates and \n",
    "# diminishing linear projection for EPS and also ROIC numbers. Assigned\n",
    "# multiple will be based on growth rates & ROIC in some way\n",
    "\n",
    "def EPS_Valuation(EPS, ROIC):\n",
    "    Multiple = (8.5 + 60*(ROIC))\n",
    "    Price = Multiple * EPS\n",
    "    return Price"
   ]
  },
  {
   "cell_type": "code",
   "execution_count": 8,
   "id": "cc1d4731",
   "metadata": {},
   "outputs": [
    {
     "data": {
      "text/plain": [
       "406800000"
      ]
     },
     "execution_count": 8,
     "metadata": {},
     "output_type": "execute_result"
    }
   ],
   "source": [
    "#calcula\n",
    "#calc_ROIC(statements[\"ENPH\"][\"INCOME\"][\"2022-12-31\"][\"ebit\"], )\n",
    "int(statements[\"ENPH\"][\"INCOME\"][\"2022-12-31\"][\"ebit\"]) - int(statements[\n",
    "    \"ENPH\"][\"INCOME\"][\"2022-12-31\"][\"incomeTaxExpense\"])\n"
   ]
  },
  {
   "cell_type": "code",
   "execution_count": 9,
   "id": "ce60fc91",
   "metadata": {
    "scrolled": true
   },
   "outputs": [
    {
     "data": {
      "text/plain": [
       "dict_keys(['fiscalDateEnding', 'reportedCurrency', 'grossProfit', 'totalRevenue', 'costOfRevenue', 'costofGoodsAndServicesSold', 'operatingIncome', 'sellingGeneralAndAdministrative', 'researchAndDevelopment', 'operatingExpenses', 'investmentIncomeNet', 'netInterestIncome', 'interestIncome', 'interestExpense', 'nonInterestIncome', 'otherNonOperatingIncome', 'depreciation', 'depreciationAndAmortization', 'incomeBeforeTax', 'incomeTaxExpense', 'interestAndDebtExpense', 'netIncomeFromContinuingOperations', 'comprehensiveIncomeNetOfTax', 'ebit', 'ebitda', 'netIncome'])"
      ]
     },
     "execution_count": 9,
     "metadata": {},
     "output_type": "execute_result"
    }
   ],
   "source": [
    "statements[\"ENPH\"][\"INCOME\"][\"2022-12-31\"].keys()"
   ]
  },
  {
   "cell_type": "code",
   "execution_count": 10,
   "id": "14f14577",
   "metadata": {},
   "outputs": [
    {
     "data": {
      "text/plain": [
       "dict_keys(['fiscalDateEnding', 'reportedCurrency', 'totalAssets', 'totalCurrentAssets', 'cashAndCashEquivalentsAtCarryingValue', 'cashAndShortTermInvestments', 'inventory', 'currentNetReceivables', 'totalNonCurrentAssets', 'propertyPlantEquipment', 'accumulatedDepreciationAmortizationPPE', 'intangibleAssets', 'intangibleAssetsExcludingGoodwill', 'goodwill', 'investments', 'longTermInvestments', 'shortTermInvestments', 'otherCurrentAssets', 'otherNonCurrentAssets', 'totalLiabilities', 'totalCurrentLiabilities', 'currentAccountsPayable', 'deferredRevenue', 'currentDebt', 'shortTermDebt', 'totalNonCurrentLiabilities', 'capitalLeaseObligations', 'longTermDebt', 'currentLongTermDebt', 'longTermDebtNoncurrent', 'shortLongTermDebtTotal', 'otherCurrentLiabilities', 'otherNonCurrentLiabilities', 'totalShareholderEquity', 'treasuryStock', 'retainedEarnings', 'commonStock', 'commonStockSharesOutstanding'])"
      ]
     },
     "execution_count": 10,
     "metadata": {},
     "output_type": "execute_result"
    }
   ],
   "source": [
    "statements[\"ENPH\"][\"BALANCE\"][\"2022-12-31\"].keys()"
   ]
  },
  {
   "cell_type": "code",
   "execution_count": 11,
   "id": "b6012b3e",
   "metadata": {},
   "outputs": [
    {
     "data": {
      "text/plain": [
       "dict_keys(['fiscalDateEnding', 'reportedCurrency', 'operatingCashflow', 'paymentsForOperatingActivities', 'proceedsFromOperatingActivities', 'changeInOperatingLiabilities', 'changeInOperatingAssets', 'depreciationDepletionAndAmortization', 'capitalExpenditures', 'changeInReceivables', 'changeInInventory', 'profitLoss', 'cashflowFromInvestment', 'cashflowFromFinancing', 'proceedsFromRepaymentsOfShortTermDebt', 'paymentsForRepurchaseOfCommonStock', 'paymentsForRepurchaseOfEquity', 'paymentsForRepurchaseOfPreferredStock', 'dividendPayout', 'dividendPayoutCommonStock', 'dividendPayoutPreferredStock', 'proceedsFromIssuanceOfCommonStock', 'proceedsFromIssuanceOfLongTermDebtAndCapitalSecuritiesNet', 'proceedsFromIssuanceOfPreferredStock', 'proceedsFromRepurchaseOfEquity', 'proceedsFromSaleOfTreasuryStock', 'changeInCashAndCashEquivalents', 'changeInExchangeRate', 'netIncome'])"
      ]
     },
     "execution_count": 11,
     "metadata": {},
     "output_type": "execute_result"
    }
   ],
   "source": [
    "statements[\"ENPH\"][\"CASH\"][\"2022-12-31\"].keys()"
   ]
  },
  {
   "cell_type": "code",
   "execution_count": 12,
   "id": "e9675e36",
   "metadata": {},
   "outputs": [
    {
     "data": {
      "text/plain": [
       "'None'"
      ]
     },
     "execution_count": 12,
     "metadata": {},
     "output_type": "execute_result"
    }
   ],
   "source": [
    "statements[\"ENPH\"][\"CASH\"][\"2022-12-31\"][\"dividendPayout\"]"
   ]
  },
  {
   "cell_type": "code",
   "execution_count": 13,
   "id": "cc897222",
   "metadata": {},
   "outputs": [],
   "source": [
    "import datetime"
   ]
  },
  {
   "cell_type": "code",
   "execution_count": 14,
   "id": "a8663f7c",
   "metadata": {},
   "outputs": [],
   "source": [
    "#for date in statements[\"ENPH\"][\"BALANCE\"]:\n",
    "#    format = \"%Y-%m-%d\"\n",
    "    \n",
    "    \n",
    "#    print(statements[\"ENPH\"][\"BALANCE\"][date])"
   ]
  },
  {
   "cell_type": "code",
   "execution_count": 15,
   "id": "6206e7e6",
   "metadata": {},
   "outputs": [],
   "source": [
    "import numpy as np"
   ]
  },
  {
   "cell_type": "code",
   "execution_count": 16,
   "id": "4f8e3380",
   "metadata": {},
   "outputs": [],
   "source": [
    "# here we calculate a core component of our valuation strategy, ROIC\n",
    "# We believe that ROIC is a good indicator of return to shareholder capital,\n",
    "# and in our thesis shows what the return on the money generated by the \n",
    "# business could potentially be. This will be used as a guage for our assigned\n",
    "# multiple for businesses. I am also adding a cash&Equivalents portion\n",
    "# to artificially inflate businesses with higher cash stores. This\n",
    "# is meant to give a higher multiple to cash-neutral or cash-holding businesses\n",
    "# due to decreased liquidity risk. Might tweak this later.\n",
    "\n",
    "# right now we are removing dividends from the EPS calculation since I will be adding dividend yields into the \n",
    "# valuation later on if I have time. Note: underestimating multiples for all companies, but strongly on dividend companies\n",
    "\n",
    "\n",
    "for stock in statements:\n",
    "    statements[stock][\"VALUATION\"] = {}\n",
    "    for date in statements[stock][\"BALANCE\"]:\n",
    "            statements[stock][\"VALUATION\"][date] = {}\n",
    "            new = statements[stock][\"VALUATION\"][date]\n",
    "            old = statements[stock]\n",
    "            new[\"ROIC\"] = calc_ROIC(EBIT = old[\"INCOME\"][date][\"ebit\"], \n",
    "                                    Taxes = old[\"INCOME\"][date][\"incomeTaxExpense\"],\n",
    "                                    Dividends = old[\"CASH\"][date][\"dividendPayout\"],\n",
    "                                    Debt = old[\"BALANCE\"][date][\"totalLiabilities\"],\n",
    "                                   Equity = old[\"BALANCE\"][date][\"totalShareholderEquity\"],\n",
    "                                   Cash_Equiv = old[\"BALANCE\"][date][\"cashAndShortTermInvestments\"])\n",
    "            new[\"EPS\"] = calc_EPS(Net_Income = old[\"INCOME\"][date][\"netIncome\"], \n",
    "                                   Dividends = old[\"CASH\"][date][\"dividendPayout\"],\n",
    "                                  Shares = old[\"BALANCE\"][date][\"commonStockSharesOutstanding\"])\n",
    "            statements[stock][\"VALUATION\"][date][\"EPS_Valuation\"] = EPS_Valuation(EPS = new[\"EPS\"],\n",
    "                                                                                 ROIC = new[\"ROIC\"])"
   ]
  },
  {
   "cell_type": "code",
   "execution_count": null,
   "id": "3b3d0c63",
   "metadata": {},
   "outputs": [],
   "source": []
  },
  {
   "cell_type": "code",
   "execution_count": 20,
   "id": "24c4bfc2",
   "metadata": {},
   "outputs": [
    {
     "data": {
      "text/plain": [
       "{'2022-06-30': {'ROIC': 0.22, 'EPS': 7.57, 'EPS_Valuation': 164.269},\n",
       " '2021-06-30': {'ROIC': 0.16, 'EPS': 5.19, 'EPS_Valuation': 93.93900000000002},\n",
       " '2020-06-30': {'ROIC': 0.15, 'EPS': 2.9, 'EPS_Valuation': 50.75},\n",
       " '2019-06-30': {'ROIC': 0.17,\n",
       "  'EPS': 3.07,\n",
       "  'EPS_Valuation': 57.409000000000006},\n",
       " '2018-06-30': {'ROIC': 0.11, 'EPS': 1.26, 'EPS_Valuation': 19.026}}"
      ]
     },
     "execution_count": 20,
     "metadata": {},
     "output_type": "execute_result"
    }
   ],
   "source": [
    "#for stock in statements:\n",
    "#    statements[stock][\"VALUATION\"][\"ROIC_5-year\"] = new[\"ROIC\"].mean()\n",
    " #   statements[stock][\"VALUATION\"][\"EPS_5-year\"] = new[\"EPS\"].mean()\n",
    "        #print(stock, date, statements[stock][\"BALANCE\"][date][\"commonStockSharesOutstanding\"])\n",
    "statements[\"MBUU\"][\"VALUATION\"]"
   ]
  },
  {
   "cell_type": "code",
   "execution_count": 18,
   "id": "e174d21f",
   "metadata": {},
   "outputs": [
    {
     "ename": "IndentationError",
     "evalue": "expected an indented block (3880963370.py, line 4)",
     "output_type": "error",
     "traceback": [
      "\u001b[1;36m  File \u001b[1;32m\"C:\\Users\\Bryce Grabanski\\AppData\\Local\\Temp\\ipykernel_17024\\3880963370.py\"\u001b[1;36m, line \u001b[1;32m4\u001b[0m\n\u001b[1;33m    \u001b[0m\n\u001b[1;37m    ^\u001b[0m\n\u001b[1;31mIndentationError\u001b[0m\u001b[1;31m:\u001b[0m expected an indented block\n"
     ]
    }
   ],
   "source": [
    "for stock in statements:\n",
    "    for statement_type in statements[stock]:\n",
    "        for date in statements[stock][statement_type]:\n",
    "            "
   ]
  },
  {
   "cell_type": "code",
   "execution_count": null,
   "id": "5b668bcd",
   "metadata": {},
   "outputs": [],
   "source": [
    "import matplotlib.pyplot as plt\n"
   ]
  },
  {
   "cell_type": "code",
   "execution_count": null,
   "id": "677b5ee5",
   "metadata": {},
   "outputs": [],
   "source": [
    "for date in statements[\"ENPH\"][\"VALUATION\"]:\n",
    "    print(statements[\"ENPH\"][\"VALUATION\"][date][\"ROIC\"])"
   ]
  },
  {
   "cell_type": "code",
   "execution_count": null,
   "id": "e0fbed58",
   "metadata": {},
   "outputs": [],
   "source": []
  },
  {
   "cell_type": "code",
   "execution_count": null,
   "id": "4cc01fca",
   "metadata": {},
   "outputs": [],
   "source": []
  },
  {
   "cell_type": "code",
   "execution_count": null,
   "id": "ab3ac033",
   "metadata": {},
   "outputs": [],
   "source": [
    "#data_dct = {}\n",
    "#for json_dct in ENPH_IS:\n",
    "#     date = json_dct[\"fiscalDateEnding\"]\n",
    "#    data_dct[date] = json_dct\n",
    "#\n",
    "#pd.DataFrame(data_dct).T"
   ]
  },
  {
   "cell_type": "code",
   "execution_count": null,
   "id": "c6c7cc1a",
   "metadata": {},
   "outputs": [],
   "source": []
  },
  {
   "cell_type": "code",
   "execution_count": null,
   "id": "9849b6b6",
   "metadata": {},
   "outputs": [],
   "source": []
  },
  {
   "cell_type": "code",
   "execution_count": null,
   "id": "4d0a1406",
   "metadata": {},
   "outputs": [],
   "source": []
  },
  {
   "cell_type": "code",
   "execution_count": null,
   "id": "fe17ea11",
   "metadata": {},
   "outputs": [],
   "source": []
  },
  {
   "cell_type": "code",
   "execution_count": null,
   "id": "75ffaa97",
   "metadata": {
    "scrolled": true
   },
   "outputs": [],
   "source": []
  },
  {
   "cell_type": "code",
   "execution_count": null,
   "id": "de2f11aa",
   "metadata": {
    "scrolled": false
   },
   "outputs": [],
   "source": [
    "data"
   ]
  },
  {
   "cell_type": "code",
   "execution_count": null,
   "id": "d5ff89ba",
   "metadata": {
    "scrolled": true
   },
   "outputs": [],
   "source": [
    "type(data)"
   ]
  },
  {
   "cell_type": "markdown",
   "id": "e09104e9",
   "metadata": {},
   "source": [
    "import requests\n",
    "\n",
    "# API key for Alpha Vantage\n",
    "api_key = 'YOUR_API_KEY'\n",
    "\n",
    "# Base URL for Alpha Vantage API\n",
    "base_url = 'https://www.alphavantage.co/query'\n",
    "\n",
    "# Ticker symbol for AAPL\n",
    "symbol = 'AAPL'\n",
    "\n",
    "# Initialize the data dictionary\n",
    "data = {}\n",
    "\n",
    "# Function to retrieve financial statement data for a given symbol and statement type\n",
    "def get_financial_statement(symbol, statement_type):\n",
    "    # Build the URL for the API call\n",
    "    url = base_url + '?function=' + statement_type + '&symbol=' + symbol + '&apikey=' + api_key\n",
    "\n",
    "    # Make the API call\n",
    "    response = requests.get(url)\n",
    "\n",
    "    # Check if the API call was successful\n",
    "    if response.status_code != 200:\n",
    "        print(\"Error: Unable to retrieve \" + statement_type + \" for \" + symbol)\n",
    "        return None\n",
    "\n",
    "    # Extract the financial statement data from the API response\n",
    "    data = response.json()\n",
    "    statement_data = data['annualReports']\n",
    "\n",
    "    return statement_data\n",
    "\n",
    "# Retrieve and store the income statement for AAPL\n",
    "income_statement = get_financial_statement(symbol, 'INCOME_STATEMENT')\n",
    "data[symbol] = {'Income Statement': income_statement}\n",
    "\n",
    "# Retrieve and store the balance sheet for AAPL\n",
    "balance_sheet = get_financial_statement(symbol, 'BALANCE_SHEET')\n",
    "data[symbol]['Balance Sheet'] = balance_sheet\n",
    "\n",
    "# Retrieve and store the cash flow statement for AAPL\n",
    "cash_flow = get_financial_statement(symbol, 'CASH_FLOW')\n",
    "data[symbol]['Cash Flow'] = cash_flow\n",
    "\n",
    "# Print the retrieved data\n",
    "print(data[symbol]['Income Statement'])\n",
    "print(data[symbol]['Balance Sheet'])\n",
    "print(data[symbol]['Cash Flow'])\n"
   ]
  }
 ],
 "metadata": {
  "kernelspec": {
   "display_name": "Python 3 (ipykernel)",
   "language": "python",
   "name": "python3"
  },
  "language_info": {
   "codemirror_mode": {
    "name": "ipython",
    "version": 3
   },
   "file_extension": ".py",
   "mimetype": "text/x-python",
   "name": "python",
   "nbconvert_exporter": "python",
   "pygments_lexer": "ipython3",
   "version": "3.9.13"
  }
 },
 "nbformat": 4,
 "nbformat_minor": 5
}
