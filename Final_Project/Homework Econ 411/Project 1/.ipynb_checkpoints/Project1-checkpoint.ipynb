{
 "cells": [
  {
   "cell_type": "markdown",
   "id": "2b372d26",
   "metadata": {},
   "source": [
    "#hello world \n",
    "note: Strings are a type of data stored. Print is useful to display an output. You can store different data under different names using = "
   ]
  },
  {
   "cell_type": "code",
   "execution_count": 2,
   "id": "0374c824",
   "metadata": {
    "scrolled": false
   },
   "outputs": [
    {
     "name": "stdout",
     "output_type": "stream",
     "text": [
      "Hello World!\n"
     ]
    }
   ],
   "source": [
    "print(\"Hello World!\")"
   ]
  },
  {
   "cell_type": "code",
   "execution_count": 6,
   "id": "5c0d5dcc",
   "metadata": {},
   "outputs": [
    {
     "data": {
      "text/plain": [
       "str"
      ]
     },
     "execution_count": 6,
     "metadata": {},
     "output_type": "execute_result"
    }
   ],
   "source": [
    "type(\"Hello World\")"
   ]
  },
  {
   "cell_type": "code",
   "execution_count": 15,
   "id": "5db03c3a",
   "metadata": {},
   "outputs": [],
   "source": [
    "## Save \"Hello World\" as a variable ##"
   ]
  },
  {
   "cell_type": "code",
   "execution_count": 11,
   "id": "bd743eeb",
   "metadata": {},
   "outputs": [
    {
     "name": "stdout",
     "output_type": "stream",
     "text": [
      "Hello World\n"
     ]
    }
   ],
   "source": [
    "msg = \"Hello World\"\n",
    "print(msg)"
   ]
  },
  {
   "cell_type": "code",
   "execution_count": 13,
   "id": "f3cb96f4",
   "metadata": {},
   "outputs": [
    {
     "data": {
      "text/plain": [
       "str"
      ]
     },
     "execution_count": 13,
     "metadata": {},
     "output_type": "execute_result"
    }
   ],
   "source": [
    "type(msg)"
   ]
  },
  {
   "cell_type": "code",
   "execution_count": 43,
   "id": "0382208f",
   "metadata": {},
   "outputs": [
    {
     "name": "stdout",
     "output_type": "stream",
     "text": [
      "JOHN NASH\n"
     ]
    },
    {
     "data": {
      "text/plain": [
       "'John Nash'"
      ]
     },
     "execution_count": 43,
     "metadata": {},
     "output_type": "execute_result"
    }
   ],
   "source": [
    "msg = \"john nash\"\n",
    "#ALL CAPS\n",
    "msg_upper = msg.upper()\n",
    "print(msg_upper)\n",
    "msg_title = msg.title()\n",
    "msg_title"
   ]
  },
  {
   "cell_type": "code",
   "execution_count": 38,
   "id": "e107e829",
   "metadata": {},
   "outputs": [],
   "source": [
    "#Concatenate\n",
    "\n",
    "#concatenate means to join together. You can join strings together so they form a single string. This is useful for renaming data."
   ]
  },
  {
   "cell_type": "code",
   "execution_count": 26,
   "id": "2c6c5551",
   "metadata": {
    "scrolled": true
   },
   "outputs": [
    {
     "name": "stdout",
     "output_type": "stream",
     "text": [
      "A\n"
     ]
    }
   ],
   "source": [
    "print(\"A\")"
   ]
  },
  {
   "cell_type": "code",
   "execution_count": 29,
   "id": "89ae4f4f",
   "metadata": {},
   "outputs": [
    {
     "name": "stdout",
     "output_type": "stream",
     "text": [
      "B\n"
     ]
    }
   ],
   "source": [
    "print(\"B\")"
   ]
  },
  {
   "cell_type": "code",
   "execution_count": 32,
   "id": "a2c02cb2",
   "metadata": {},
   "outputs": [
    {
     "name": "stdout",
     "output_type": "stream",
     "text": [
      "AB\n"
     ]
    }
   ],
   "source": [
    "print(\"A\" + \"B\")"
   ]
  },
  {
   "cell_type": "code",
   "execution_count": 45,
   "id": "6be3af40",
   "metadata": {
    "scrolled": true
   },
   "outputs": [
    {
     "name": "stdout",
     "output_type": "stream",
     "text": [
      "AB\n"
     ]
    }
   ],
   "source": [
    "a = \"A\"\n",
    "b = \"B\"\n",
    "print(a + b)"
   ]
  },
  {
   "cell_type": "code",
   "execution_count": 48,
   "id": "98b9e303",
   "metadata": {},
   "outputs": [
    {
     "name": "stdout",
     "output_type": "stream",
     "text": [
      "You thought it would be easyYou thought it wouldn't be strangeBut then you started codingThings never were the same\n"
     ]
    }
   ],
   "source": [
    "line1 = \"You thought it would be easy\"\n",
    "line2 = \"You thought it wouldn't be strange\"\n",
    "line3 = \"But then you started coding\"\n",
    "line4 = \"Things never were the same\"\n",
    "print(line1 + line2 + line3 + line4)"
   ]
  },
  {
   "cell_type": "code",
   "execution_count": 50,
   "id": "3f493b7a",
   "metadata": {},
   "outputs": [
    {
     "name": "stdout",
     "output_type": "stream",
     "text": [
      "You thought it would be easy You thought it wouldn't be strange But then you started coding Things never were the same\n"
     ]
    }
   ],
   "source": [
    "print(line1 + \" \" + line2 + \" \" + line3 + \" \" + line4)"
   ]
  },
  {
   "cell_type": "code",
   "execution_count": 61,
   "id": "2c8b2cc0",
   "metadata": {},
   "outputs": [
    {
     "name": "stdout",
     "output_type": "stream",
     "text": [
      "You thought it would be easy\n",
      "You thought it wouldn't be strange\n"
     ]
    }
   ],
   "source": [
    " print (line1 + \"\\n\" + line2)\n"
   ]
  },
  {
   "cell_type": "code",
   "execution_count": 65,
   "id": "b5f740a5",
   "metadata": {},
   "outputs": [
    {
     "name": "stdout",
     "output_type": "stream",
     "text": [
      "1\n",
      "2\n",
      "3\n",
      "4\n",
      "You thought it would be easy\n",
      "You thought it wouldn't be strange\n",
      "But then you started coding\n",
      "Things never were the same\n"
     ]
    }
   ],
   "source": [
    "#create a new line with \"\\n\"\n",
    "#print(line1 + \"\\n\")\n",
    "# Use sep = \"string\" to insert string between each object passed to print\n",
    "print(1,2,3,4,sep = \"\\n\")\n",
    "print (line1, line2, line3, line4, sep = \"\\n\")"
   ]
  },
  {
   "cell_type": "code",
   "execution_count": 68,
   "id": "907bb930",
   "metadata": {},
   "outputs": [],
   "source": [
    "## Quotes within quotes\n",
    "\n"
   ]
  },
  {
   "cell_type": "code",
   "execution_count": 75,
   "id": "250b4363",
   "metadata": {},
   "outputs": [
    {
     "name": "stdout",
     "output_type": "stream",
     "text": [
      "\"\n"
     ]
    }
   ],
   "source": [
    "print(\"\\\"\")"
   ]
  },
  {
   "cell_type": "code",
   "execution_count": 76,
   "id": "5947a3b6",
   "metadata": {},
   "outputs": [
    {
     "name": "stdout",
     "output_type": "stream",
     "text": [
      "\"\n"
     ]
    }
   ],
   "source": [
    "print('\"')"
   ]
  },
  {
   "cell_type": "code",
   "execution_count": 78,
   "id": "1da7ebc6",
   "metadata": {},
   "outputs": [],
   "source": [
    "# More String Methods"
   ]
  },
  {
   "cell_type": "code",
   "execution_count": 86,
   "id": "2dcc2c9f",
   "metadata": {},
   "outputs": [
    {
     "name": "stdout",
     "output_type": "stream",
     "text": [
      "           Look at all the spaces in the text!      \n",
      "Look at all the spaces in the text!      \n",
      "           Look at all the spaces in the text!\n",
      "Look at all the spaces in the text!\n"
     ]
    }
   ],
   "source": [
    "spaces = \"           Look at all the spaces in the text!      \"\n",
    "print(spaces)\n",
    "print(spaces.lstrip())\n",
    "print(spaces.rstrip())\n",
    "print(spaces.strip())\n",
    "# Note that you need parenthesis in specific places for the function to read correctly.\n"
   ]
  },
  {
   "cell_type": "code",
   "execution_count": 92,
   "id": "40f2ce72",
   "metadata": {},
   "outputs": [
    {
     "name": "stdout",
     "output_type": "stream",
     "text": [
      "Lookatallthespacesinthetext!\n",
      " Look at all the spaces in the text!\n"
     ]
    }
   ],
   "source": [
    "print(spaces.replace(\" \",\"\"))\n",
    "print(spaces.replace(\"  \",\"\"))\n",
    "#note bottom still has spaces shorter than 1 space allowed"
   ]
  },
  {
   "cell_type": "code",
   "execution_count": 94,
   "id": "7ea8d131",
   "metadata": {},
   "outputs": [],
   "source": [
    "# Working with Numbers"
   ]
  },
  {
   "cell_type": "code",
   "execution_count": 97,
   "id": "9f4fefed",
   "metadata": {},
   "outputs": [
    {
     "name": "stdout",
     "output_type": "stream",
     "text": [
      "1 1.0\n"
     ]
    }
   ],
   "source": [
    "print(1, 1.)"
   ]
  },
  {
   "cell_type": "code",
   "execution_count": 103,
   "id": "46a694b2",
   "metadata": {},
   "outputs": [
    {
     "name": "stdout",
     "output_type": "stream",
     "text": [
      "<class 'int'> <class 'float'> <class 'str'>\n",
      "1 1.0 1.\n"
     ]
    }
   ],
   "source": [
    "int1 = 1\n",
    "float1 = 1.\n",
    "str1 = \"1.\"\n",
    "print(type(int1), type(float1), type(str1))\n",
    "print(int1, float1, str1)\n",
    "#conputer interprets integer as classic number, float as a rounded number with decimals, and string as purely text"
   ]
  },
  {
   "cell_type": "code",
   "execution_count": 106,
   "id": "1cb44559",
   "metadata": {},
   "outputs": [
    {
     "name": "stdout",
     "output_type": "stream",
     "text": [
      "<class 'int'> 2\n"
     ]
    }
   ],
   "source": [
    "int2 = int1 + int1\n",
    "print(type(int2),int2)\n"
   ]
  },
  {
   "cell_type": "code",
   "execution_count": 109,
   "id": "054a3ec0",
   "metadata": {},
   "outputs": [
    {
     "name": "stdout",
     "output_type": "stream",
     "text": [
      "<class 'float'> 2.0\n"
     ]
    }
   ],
   "source": [
    "float2 = int1 + float1\n",
    "print(type(float2), float2)\n",
    "#defaults to making float when an integer is added to a float\n"
   ]
  },
  {
   "cell_type": "code",
   "execution_count": 110,
   "id": "ca555b32",
   "metadata": {},
   "outputs": [],
   "source": [
    "#If you attempt to sum int or float with string, error results"
   ]
  },
  {
   "cell_type": "code",
   "execution_count": 112,
   "id": "c43e2b60",
   "metadata": {},
   "outputs": [
    {
     "ename": "TypeError",
     "evalue": "unsupported operand type(s) for +: 'int' and 'str'",
     "output_type": "error",
     "traceback": [
      "\u001b[1;31m---------------------------------------------------------------------------\u001b[0m",
      "\u001b[1;31mTypeError\u001b[0m                                 Traceback (most recent call last)",
      "\u001b[1;32m~\\AppData\\Local\\Temp\\ipykernel_10296\\2008865251.py\u001b[0m in \u001b[0;36m<module>\u001b[1;34m\u001b[0m\n\u001b[1;32m----> 1\u001b[1;33m \u001b[0mint1\u001b[0m \u001b[1;33m+\u001b[0m \u001b[0mstr1\u001b[0m\u001b[1;33m\u001b[0m\u001b[1;33m\u001b[0m\u001b[0m\n\u001b[0m",
      "\u001b[1;31mTypeError\u001b[0m: unsupported operand type(s) for +: 'int' and 'str'"
     ]
    }
   ],
   "source": [
    "int1 + str1\n"
   ]
  },
  {
   "cell_type": "code",
   "execution_count": 114,
   "id": "681cddf3",
   "metadata": {},
   "outputs": [],
   "source": [
    "## transform value to string"
   ]
  },
  {
   "cell_type": "code",
   "execution_count": 117,
   "id": "b3b303b7",
   "metadata": {},
   "outputs": [
    {
     "data": {
      "text/plain": [
       "'11.'"
      ]
     },
     "execution_count": 117,
     "metadata": {},
     "output_type": "execute_result"
    }
   ],
   "source": [
    "str11 = str(int1) + str1\n",
    "str11"
   ]
  },
  {
   "cell_type": "code",
   "execution_count": 119,
   "id": "7403e12f",
   "metadata": {},
   "outputs": [
    {
     "data": {
      "text/plain": [
       "'1.01.'"
      ]
     },
     "execution_count": 119,
     "metadata": {},
     "output_type": "execute_result"
    }
   ],
   "source": [
    "str11 = str(float1) + str1\n",
    "str11"
   ]
  },
  {
   "cell_type": "code",
   "execution_count": 129,
   "id": "318bcc22",
   "metadata": {},
   "outputs": [
    {
     "name": "stdout",
     "output_type": "stream",
     "text": [
      "012345678910111213141516171819\n"
     ]
    }
   ],
   "source": [
    "total = \"\"\n",
    "for i in range(20):\n",
    "    total = total + str(i)\n",
    "print(total)"
   ]
  },
  {
   "cell_type": "code",
   "execution_count": 130,
   "id": "37e35d36",
   "metadata": {},
   "outputs": [
    {
     "name": "stdout",
     "output_type": "stream",
     "text": [
      "190.0\n"
     ]
    }
   ],
   "source": [
    "total = 0\n",
    "for i in range(20):\n",
    "    total = total + float(i)\n",
    "print(total)"
   ]
  }
 ],
 "metadata": {
  "kernelspec": {
   "display_name": "Python 3 (ipykernel)",
   "language": "python",
   "name": "python3"
  },
  "language_info": {
   "codemirror_mode": {
    "name": "ipython",
    "version": 3
   },
   "file_extension": ".py",
   "mimetype": "text/x-python",
   "name": "python",
   "nbconvert_exporter": "python",
   "pygments_lexer": "ipython3",
   "version": "3.9.13"
  }
 },
 "nbformat": 4,
 "nbformat_minor": 5
}
