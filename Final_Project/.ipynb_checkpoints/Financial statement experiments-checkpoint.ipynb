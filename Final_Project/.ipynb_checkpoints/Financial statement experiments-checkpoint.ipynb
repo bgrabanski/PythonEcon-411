{
 "cells": [
  {
   "cell_type": "markdown",
   "id": "f65b345c",
   "metadata": {},
   "source": [
    "# financial statements testing grounds\n"
   ]
  },
  {
   "cell_type": "code",
   "execution_count": 1,
   "id": "292cb995",
   "metadata": {},
   "outputs": [],
   "source": [
    "import yfinance as yf\n",
    "import pandas as pd"
   ]
  },
  {
   "cell_type": "code",
   "execution_count": null,
   "id": "b6785d41",
   "metadata": {},
   "outputs": [],
   "source": [
    "import requests\n",
    "import time\n",
    "\n",
    "\n",
    "api_key = \"TULH49F5XQMU8MQ5\"\n",
    "base_url = \"https://www.alphavantage.co/query\"\n",
    "\n",
    "def get_fin_stmt(symbol, function):\n",
    "    url = base_url + \"?function=\" + function + \"&symbol=\" + symbol + \"&apikey=\" + api_key\n",
    "    response = requests.get(url)\n",
    "    time.sleep(16)\n",
    "    if response.status_code != 200:\n",
    "        print(\"Error, cannot retrieve\" + function + \"for \" + symbol)\n",
    "        return None\n",
    "    data = response.json()\n",
    "    if \"annualReports\" not in data:\n",
    "        print(\"Error: No \" + function + \" data found for \" + symbol)\n",
    "        return None\n",
    "#     print(data)\n",
    "    statement_data = data[\"annualReports\"]\n",
    "    return_dct = {}\n",
    "    \n",
    "    return statement_data\n",
    "statement_dct = {}\n",
    "\n",
    "\n",
    "# retrieving data using above function in compressed format\n",
    "statements = {}\n",
    "stocks = [\"ENPH\", \"IBM\"]\n",
    "\n",
    "statement_types =  [\"INCOME_STATEMENT\", \"BALANCE_SHEET\", \"CASH_FLOW\",\"EARNINGS\"]\n",
    "for stock in stocks:\n",
    "    statements[stock] = {}\n",
    "    for statement_type in statement_types:\n",
    "        statement_key = statement_type.split(\"_\")[0]\n",
    "        statements[stock][statement_key] = {}\n",
    "        try:\n",
    "            fin_statement = get_fin_stmt(stock, statement_type)\n",
    "            for annual_data in fin_statement:\n",
    "                date = annual_data[\"fiscalDateEnding\"]\n",
    "\n",
    "                statements[stock][statement_key][date] = annual_data\n",
    "        except:\n",
    "            print(\"Error retrieving \" + statement_type + \" for \" + stock)\n"
   ]
  },
  {
   "cell_type": "code",
   "execution_count": null,
   "id": "32322c5c",
   "metadata": {
    "scrolled": true
   },
   "outputs": [],
   "source": [
    "plot_df = pd.DataFrame(statements[\"ENPH\"][\"BALANCE\"]).T\n",
    "plot_df"
   ]
  },
  {
   "cell_type": "code",
   "execution_count": null,
   "id": "f3e47cf3",
   "metadata": {
    "scrolled": true
   },
   "outputs": [],
   "source": [
    "plot_df.keys()"
   ]
  },
  {
   "cell_type": "code",
   "execution_count": null,
   "id": "f902440f",
   "metadata": {},
   "outputs": [],
   "source": [
    "def calc_ROIC(EBIT, Taxes, Debt, Equity, Cash_Equiv):\n",
    "    NOPAT = EBIT - Taxes\n",
    "    Invested_Capital = Debt + Equity - Cash_Equiv\n",
    "    ROIC = NOPAT / Invested_Capital\n",
    "    return ROIC\n",
    "    "
   ]
  },
  {
   "cell_type": "code",
   "execution_count": null,
   "id": "59f9c365",
   "metadata": {},
   "outputs": [],
   "source": [
    "#calcula\n",
    "#calc_ROIC(statements[\"ENPH\"][\"INCOME\"][\"2022-12-31\"][\"ebit\"], )\n",
    "int(statements[\"ENPH\"][\"INCOME\"][\"2022-12-31\"][\"ebit\"]) - int(statements[\n",
    "    \"ENPH\"][\"INCOME\"][\"2022-12-31\"][\"incomeTaxExpense\"])"
   ]
  },
  {
   "cell_type": "code",
   "execution_count": null,
   "id": "cc897222",
   "metadata": {},
   "outputs": [],
   "source": [
    "import datetime"
   ]
  },
  {
   "cell_type": "code",
   "execution_count": null,
   "id": "a8663f7c",
   "metadata": {},
   "outputs": [],
   "source": [
    "#for date in statements[\"ENPH\"][\"BALANCE\"]:\n",
    "#    format = \"%Y-%m-%d\"\n",
    "    \n",
    "    \n",
    "#    print(statements[\"ENPH\"][\"BALANCE\"][date])"
   ]
  },
  {
   "cell_type": "code",
   "execution_count": null,
   "id": "6206e7e6",
   "metadata": {},
   "outputs": [],
   "source": []
  },
  {
   "cell_type": "code",
   "execution_count": null,
   "id": "4f8e3380",
   "metadata": {},
   "outputs": [],
   "source": [
    "for stock in statements:\n",
    "      for date in statements[stock][\"BALANCE\"]:\n",
    "        print(stock, date, statements[stock][\"BALANCE\"][date][\"commonStockSharesOutstanding\"])\n",
    "    "
   ]
  },
  {
   "cell_type": "code",
   "execution_count": null,
   "id": "5b668bcd",
   "metadata": {},
   "outputs": [],
   "source": [
    "import matplotlib.pyplot as plt\n"
   ]
  },
  {
   "cell_type": "code",
   "execution_count": null,
   "id": "677b5ee5",
   "metadata": {},
   "outputs": [],
   "source": [
    "# import os\n",
    "def plot_lines(df,\n",
    "              linewidth = 5,\n",
    "              figsize = (40,20),\n",
    "              secondary_y = None,\n",
    "              legend = True,\n",
    "              pp = None,\n",
    "              save_fig = False,\n",
    "              global_fontsize = 50):\n",
    "    # update global fontsizes\n",
    "    \n",
    "    \n",
    "    plt.rcParams.update({\"font.size\":global_fontsize})\n",
    "    fig, ax = plt.subplots(figsize = figsize)\n",
    "    df.dropna(axis = 0, how = \"all\").plot.line(\n",
    "        linewidth = linewidth,\n",
    "        ax = ax,\n",
    "        secondary_y = secondary_y,\n",
    "        legend = legend)\n",
    "    # remove label \"DATE\"\n",
    "    ax.set_xlabel(\"\")\n",
    "    # rotate x axis labels\n",
    "    ax.tick_params(axis = \"x\", rotation = 90)\n",
    "    # remove ticklines on x and y axis\n",
    "    ax.tick_params(length=0, which=\"both\")\n",
    "    # round axis tick values\n",
    "    # 1. access values\n",
    "    y_vals = ax.get_yticks()\n",
    "    ax.set_yticklabels([round(y,2) for y in y_vals])\n",
    "    \n",
    "    return fig, ax"
   ]
  },
  {
   "cell_type": "code",
   "execution_count": null,
   "id": "e0fbed58",
   "metadata": {},
   "outputs": [],
   "source": []
  },
  {
   "cell_type": "code",
   "execution_count": null,
   "id": "4cc01fca",
   "metadata": {},
   "outputs": [],
   "source": []
  },
  {
   "cell_type": "code",
   "execution_count": null,
   "id": "ab3ac033",
   "metadata": {},
   "outputs": [],
   "source": [
    "#data_dct = {}\n",
    "#for json_dct in ENPH_IS:\n",
    "#     date = json_dct[\"fiscalDateEnding\"]\n",
    "#    data_dct[date] = json_dct\n",
    "#\n",
    "#pd.DataFrame(data_dct).T"
   ]
  },
  {
   "cell_type": "code",
   "execution_count": null,
   "id": "c6c7cc1a",
   "metadata": {},
   "outputs": [],
   "source": []
  },
  {
   "cell_type": "code",
   "execution_count": null,
   "id": "9849b6b6",
   "metadata": {},
   "outputs": [],
   "source": []
  },
  {
   "cell_type": "code",
   "execution_count": null,
   "id": "4d0a1406",
   "metadata": {},
   "outputs": [],
   "source": []
  },
  {
   "cell_type": "code",
   "execution_count": null,
   "id": "fe17ea11",
   "metadata": {},
   "outputs": [],
   "source": []
  },
  {
   "cell_type": "code",
   "execution_count": null,
   "id": "75ffaa97",
   "metadata": {
    "scrolled": true
   },
   "outputs": [],
   "source": []
  },
  {
   "cell_type": "code",
   "execution_count": null,
   "id": "de2f11aa",
   "metadata": {
    "scrolled": false
   },
   "outputs": [],
   "source": [
    "data"
   ]
  },
  {
   "cell_type": "code",
   "execution_count": null,
   "id": "d5ff89ba",
   "metadata": {
    "scrolled": true
   },
   "outputs": [],
   "source": [
    "type(data)"
   ]
  },
  {
   "cell_type": "markdown",
   "id": "e09104e9",
   "metadata": {},
   "source": [
    "import requests\n",
    "\n",
    "# API key for Alpha Vantage\n",
    "api_key = 'YOUR_API_KEY'\n",
    "\n",
    "# Base URL for Alpha Vantage API\n",
    "base_url = 'https://www.alphavantage.co/query'\n",
    "\n",
    "# Ticker symbol for AAPL\n",
    "symbol = 'AAPL'\n",
    "\n",
    "# Initialize the data dictionary\n",
    "data = {}\n",
    "\n",
    "# Function to retrieve financial statement data for a given symbol and statement type\n",
    "def get_financial_statement(symbol, statement_type):\n",
    "    # Build the URL for the API call\n",
    "    url = base_url + '?function=' + statement_type + '&symbol=' + symbol + '&apikey=' + api_key\n",
    "\n",
    "    # Make the API call\n",
    "    response = requests.get(url)\n",
    "\n",
    "    # Check if the API call was successful\n",
    "    if response.status_code != 200:\n",
    "        print(\"Error: Unable to retrieve \" + statement_type + \" for \" + symbol)\n",
    "        return None\n",
    "\n",
    "    # Extract the financial statement data from the API response\n",
    "    data = response.json()\n",
    "    statement_data = data['annualReports']\n",
    "\n",
    "    return statement_data\n",
    "\n",
    "# Retrieve and store the income statement for AAPL\n",
    "income_statement = get_financial_statement(symbol, 'INCOME_STATEMENT')\n",
    "data[symbol] = {'Income Statement': income_statement}\n",
    "\n",
    "# Retrieve and store the balance sheet for AAPL\n",
    "balance_sheet = get_financial_statement(symbol, 'BALANCE_SHEET')\n",
    "data[symbol]['Balance Sheet'] = balance_sheet\n",
    "\n",
    "# Retrieve and store the cash flow statement for AAPL\n",
    "cash_flow = get_financial_statement(symbol, 'CASH_FLOW')\n",
    "data[symbol]['Cash Flow'] = cash_flow\n",
    "\n",
    "# Print the retrieved data\n",
    "print(data[symbol]['Income Statement'])\n",
    "print(data[symbol]['Balance Sheet'])\n",
    "print(data[symbol]['Cash Flow'])\n"
   ]
  }
 ],
 "metadata": {
  "kernelspec": {
   "display_name": "Python 3 (ipykernel)",
   "language": "python",
   "name": "python3"
  },
  "language_info": {
   "codemirror_mode": {
    "name": "ipython",
    "version": 3
   },
   "file_extension": ".py",
   "mimetype": "text/x-python",
   "name": "python",
   "nbconvert_exporter": "python",
   "pygments_lexer": "ipython3",
   "version": "3.9.13"
  }
 },
 "nbformat": 4,
 "nbformat_minor": 5
}
